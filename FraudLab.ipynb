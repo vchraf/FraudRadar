{
  "cells": [
    {
      "cell_type": "code",
      "source": [
        "from google.colab import drive\n",
        "drive.mount('/content/drive')"
      ],
      "metadata": {
        "colab": {
          "base_uri": "https://localhost:8080/"
        },
        "id": "ODSdvLriWkWa",
        "outputId": "7c134811-8f7c-49cd-a02d-1335466f5f13"
      },
      "id": "ODSdvLriWkWa",
      "execution_count": null,
      "outputs": [
        {
          "output_type": "stream",
          "name": "stdout",
          "text": [
            "Mounted at /content/drive\n"
          ]
        }
      ]
    },
    {
      "cell_type": "code",
      "execution_count": null,
      "id": "855d5f8c",
      "metadata": {
        "id": "855d5f8c"
      },
      "outputs": [],
      "source": [
        "import pandas as pd\n",
        "import numpy as np\n",
        "from sklearn.preprocessing import LabelEncoder"
      ]
    },
    {
      "cell_type": "code",
      "source": [
        "data = pd.read_csv('/content/drive/Shareddrives/D772/dataFraud/application_data.csv')\n",
        "# data = pd.read_parquet(\"./data/_data\")"
      ],
      "metadata": {
        "id": "wQU4pAXkWvpL"
      },
      "id": "wQU4pAXkWvpL",
      "execution_count": null,
      "outputs": []
    },
    {
      "cell_type": "code",
      "source": [
        "num_columns = data.select_dtypes(include=['int64', 'float64']).columns\n",
        "print(\"total number of numerical Columns :\", len(num_columns))\n",
        "num_columns"
      ],
      "metadata": {
        "colab": {
          "base_uri": "https://localhost:8080/"
        },
        "id": "FlNO1XYSyCqL",
        "outputId": "eb745eaf-d0b7-480e-a1cb-311079fa9f7b"
      },
      "id": "FlNO1XYSyCqL",
      "execution_count": null,
      "outputs": [
        {
          "output_type": "stream",
          "name": "stdout",
          "text": [
            "total number of numerical Columns : 106\n"
          ]
        },
        {
          "output_type": "execute_result",
          "data": {
            "text/plain": [
              "Index(['SK_ID_CURR', 'TARGET', 'CNT_CHILDREN', 'AMT_INCOME_TOTAL',\n",
              "       'AMT_CREDIT', 'AMT_ANNUITY', 'AMT_GOODS_PRICE',\n",
              "       'REGION_POPULATION_RELATIVE', 'DAYS_BIRTH', 'DAYS_EMPLOYED',\n",
              "       ...\n",
              "       'FLAG_DOCUMENT_18', 'FLAG_DOCUMENT_19', 'FLAG_DOCUMENT_20',\n",
              "       'FLAG_DOCUMENT_21', 'AMT_REQ_CREDIT_BUREAU_HOUR',\n",
              "       'AMT_REQ_CREDIT_BUREAU_DAY', 'AMT_REQ_CREDIT_BUREAU_WEEK',\n",
              "       'AMT_REQ_CREDIT_BUREAU_MON', 'AMT_REQ_CREDIT_BUREAU_QRT',\n",
              "       'AMT_REQ_CREDIT_BUREAU_YEAR'],\n",
              "      dtype='object', length=106)"
            ]
          },
          "metadata": {},
          "execution_count": 4
        }
      ]
    },
    {
      "cell_type": "code",
      "source": [
        "numericalData = data[num_columns]"
      ],
      "metadata": {
        "id": "55XQSCtR6v-2"
      },
      "execution_count": null,
      "outputs": [],
      "id": "55XQSCtR6v-2"
    },
    {
      "cell_type": "code",
      "source": [
        "numericalData.isnull().sum().sort_values(ascending = False)/len(numericalData)*100"
      ],
      "metadata": {
        "colab": {
          "base_uri": "https://localhost:8080/"
        },
        "id": "S-9Ka5gsAByk",
        "outputId": "ff328668-16ed-4c98-ca87-b210b4c2b35c"
      },
      "execution_count": null,
      "outputs": [
        {
          "output_type": "execute_result",
          "data": {
            "text/plain": [
              "COMMONAREA_MODE             69.872297\n",
              "COMMONAREA_AVG              69.872297\n",
              "COMMONAREA_MEDI             69.872297\n",
              "NONLIVINGAPARTMENTS_AVG     69.432963\n",
              "NONLIVINGAPARTMENTS_MODE    69.432963\n",
              "                              ...    \n",
              "REG_CITY_NOT_LIVE_CITY       0.000000\n",
              "TARGET                       0.000000\n",
              "FLAG_DOCUMENT_2              0.000000\n",
              "FLAG_DOCUMENT_3              0.000000\n",
              "SK_ID_CURR                   0.000000\n",
              "Length: 106, dtype: float64"
            ]
          },
          "metadata": {},
          "execution_count": 9
        }
      ],
      "id": "S-9Ka5gsAByk"
    },
    {
      "cell_type": "code",
      "source": [
        "numericalData.columns[numericalData.isnull().any()]"
      ],
      "metadata": {
        "colab": {
          "base_uri": "https://localhost:8080/"
        },
        "id": "b1lMpzr1yCjk",
        "outputId": "71411961-cbe2-4f08-e8c2-591b849ce003"
      },
      "id": "b1lMpzr1yCjk",
      "execution_count": null,
      "outputs": [
        {
          "output_type": "execute_result",
          "data": {
            "text/plain": [
              "Index(['AMT_ANNUITY', 'AMT_GOODS_PRICE', 'OWN_CAR_AGE', 'CNT_FAM_MEMBERS',\n",
              "       'EXT_SOURCE_1', 'EXT_SOURCE_2', 'EXT_SOURCE_3', 'APARTMENTS_AVG',\n",
              "       'BASEMENTAREA_AVG', 'YEARS_BEGINEXPLUATATION_AVG', 'YEARS_BUILD_AVG',\n",
              "       'COMMONAREA_AVG', 'ELEVATORS_AVG', 'ENTRANCES_AVG', 'FLOORSMAX_AVG',\n",
              "       'FLOORSMIN_AVG', 'LANDAREA_AVG', 'LIVINGAPARTMENTS_AVG',\n",
              "       'LIVINGAREA_AVG', 'NONLIVINGAPARTMENTS_AVG', 'NONLIVINGAREA_AVG',\n",
              "       'APARTMENTS_MODE', 'BASEMENTAREA_MODE', 'YEARS_BEGINEXPLUATATION_MODE',\n",
              "       'YEARS_BUILD_MODE', 'COMMONAREA_MODE', 'ELEVATORS_MODE',\n",
              "       'ENTRANCES_MODE', 'FLOORSMAX_MODE', 'FLOORSMIN_MODE', 'LANDAREA_MODE',\n",
              "       'LIVINGAPARTMENTS_MODE', 'LIVINGAREA_MODE', 'NONLIVINGAPARTMENTS_MODE',\n",
              "       'NONLIVINGAREA_MODE', 'APARTMENTS_MEDI', 'BASEMENTAREA_MEDI',\n",
              "       'YEARS_BEGINEXPLUATATION_MEDI', 'YEARS_BUILD_MEDI', 'COMMONAREA_MEDI',\n",
              "       'ELEVATORS_MEDI', 'ENTRANCES_MEDI', 'FLOORSMAX_MEDI', 'FLOORSMIN_MEDI',\n",
              "       'LANDAREA_MEDI', 'LIVINGAPARTMENTS_MEDI', 'LIVINGAREA_MEDI',\n",
              "       'NONLIVINGAPARTMENTS_MEDI', 'NONLIVINGAREA_MEDI', 'TOTALAREA_MODE',\n",
              "       'OBS_30_CNT_SOCIAL_CIRCLE', 'DEF_30_CNT_SOCIAL_CIRCLE',\n",
              "       'OBS_60_CNT_SOCIAL_CIRCLE', 'DEF_60_CNT_SOCIAL_CIRCLE',\n",
              "       'DAYS_LAST_PHONE_CHANGE', 'AMT_REQ_CREDIT_BUREAU_HOUR',\n",
              "       'AMT_REQ_CREDIT_BUREAU_DAY', 'AMT_REQ_CREDIT_BUREAU_WEEK',\n",
              "       'AMT_REQ_CREDIT_BUREAU_MON', 'AMT_REQ_CREDIT_BUREAU_QRT',\n",
              "       'AMT_REQ_CREDIT_BUREAU_YEAR'],\n",
              "      dtype='object')"
            ]
          },
          "metadata": {},
          "execution_count": 10
        }
      ]
    },
    {
      "cell_type": "code",
      "source": [
        "from sklearn.impute import SimpleImputer\n",
        "from sklearn.preprocessing import StandardScaler\n",
        "\n",
        "imputer = SimpleImputer(strategy=\"median\")\n",
        "# scaler = StandardScaler()\n",
        "\n",
        "numericalData = pd.DataFrame(imputer.fit_transform(numericalData), columns=num_columns) # Handling Missing Data\n",
        "# numericalData = pd.DataFrame(scaler.fit_transform(numericalData), columns=num_columns) # Data Normalization \n",
        "numericalData.head()"
      ],
      "metadata": {
        "colab": {
          "base_uri": "https://localhost:8080/",
          "height": 300
        },
        "id": "qQHigdywyCgi",
        "outputId": "979e3038-5b73-4f14-ab03-3e253e85b318"
      },
      "id": "qQHigdywyCgi",
      "execution_count": null,
      "outputs": [
        {
          "output_type": "execute_result",
          "data": {
            "text/plain": [
              "   SK_ID_CURR  TARGET  CNT_CHILDREN  AMT_INCOME_TOTAL  AMT_CREDIT  \\\n",
              "0    100002.0     1.0           0.0          202500.0    406597.5   \n",
              "1    100003.0     0.0           0.0          270000.0   1293502.5   \n",
              "2    100004.0     0.0           0.0           67500.0    135000.0   \n",
              "3    100006.0     0.0           0.0          135000.0    312682.5   \n",
              "4    100007.0     0.0           0.0          121500.0    513000.0   \n",
              "\n",
              "   AMT_ANNUITY  AMT_GOODS_PRICE  REGION_POPULATION_RELATIVE  DAYS_BIRTH  \\\n",
              "0      24700.5         351000.0                    0.018801     -9461.0   \n",
              "1      35698.5        1129500.0                    0.003541    -16765.0   \n",
              "2       6750.0         135000.0                    0.010032    -19046.0   \n",
              "3      29686.5         297000.0                    0.008019    -19005.0   \n",
              "4      21865.5         513000.0                    0.028663    -19932.0   \n",
              "\n",
              "   DAYS_EMPLOYED  ...  FLAG_DOCUMENT_18  FLAG_DOCUMENT_19  FLAG_DOCUMENT_20  \\\n",
              "0         -637.0  ...               0.0               0.0               0.0   \n",
              "1        -1188.0  ...               0.0               0.0               0.0   \n",
              "2         -225.0  ...               0.0               0.0               0.0   \n",
              "3        -3039.0  ...               0.0               0.0               0.0   \n",
              "4        -3038.0  ...               0.0               0.0               0.0   \n",
              "\n",
              "   FLAG_DOCUMENT_21  AMT_REQ_CREDIT_BUREAU_HOUR  AMT_REQ_CREDIT_BUREAU_DAY  \\\n",
              "0               0.0                         0.0                        0.0   \n",
              "1               0.0                         0.0                        0.0   \n",
              "2               0.0                         0.0                        0.0   \n",
              "3               0.0                         0.0                        0.0   \n",
              "4               0.0                         0.0                        0.0   \n",
              "\n",
              "   AMT_REQ_CREDIT_BUREAU_WEEK  AMT_REQ_CREDIT_BUREAU_MON  \\\n",
              "0                         0.0                        0.0   \n",
              "1                         0.0                        0.0   \n",
              "2                         0.0                        0.0   \n",
              "3                         0.0                        0.0   \n",
              "4                         0.0                        0.0   \n",
              "\n",
              "   AMT_REQ_CREDIT_BUREAU_QRT  AMT_REQ_CREDIT_BUREAU_YEAR  \n",
              "0                        0.0                         1.0  \n",
              "1                        0.0                         0.0  \n",
              "2                        0.0                         0.0  \n",
              "3                        0.0                         1.0  \n",
              "4                        0.0                         0.0  \n",
              "\n",
              "[5 rows x 106 columns]"
            ],
            "text/html": [
              "\n",
              "  <div id=\"df-83a79c92-4690-41c6-95a0-3a3372af3666\">\n",
              "    <div class=\"colab-df-container\">\n",
              "      <div>\n",
              "<style scoped>\n",
              "    .dataframe tbody tr th:only-of-type {\n",
              "        vertical-align: middle;\n",
              "    }\n",
              "\n",
              "    .dataframe tbody tr th {\n",
              "        vertical-align: top;\n",
              "    }\n",
              "\n",
              "    .dataframe thead th {\n",
              "        text-align: right;\n",
              "    }\n",
              "</style>\n",
              "<table border=\"1\" class=\"dataframe\">\n",
              "  <thead>\n",
              "    <tr style=\"text-align: right;\">\n",
              "      <th></th>\n",
              "      <th>SK_ID_CURR</th>\n",
              "      <th>TARGET</th>\n",
              "      <th>CNT_CHILDREN</th>\n",
              "      <th>AMT_INCOME_TOTAL</th>\n",
              "      <th>AMT_CREDIT</th>\n",
              "      <th>AMT_ANNUITY</th>\n",
              "      <th>AMT_GOODS_PRICE</th>\n",
              "      <th>REGION_POPULATION_RELATIVE</th>\n",
              "      <th>DAYS_BIRTH</th>\n",
              "      <th>DAYS_EMPLOYED</th>\n",
              "      <th>...</th>\n",
              "      <th>FLAG_DOCUMENT_18</th>\n",
              "      <th>FLAG_DOCUMENT_19</th>\n",
              "      <th>FLAG_DOCUMENT_20</th>\n",
              "      <th>FLAG_DOCUMENT_21</th>\n",
              "      <th>AMT_REQ_CREDIT_BUREAU_HOUR</th>\n",
              "      <th>AMT_REQ_CREDIT_BUREAU_DAY</th>\n",
              "      <th>AMT_REQ_CREDIT_BUREAU_WEEK</th>\n",
              "      <th>AMT_REQ_CREDIT_BUREAU_MON</th>\n",
              "      <th>AMT_REQ_CREDIT_BUREAU_QRT</th>\n",
              "      <th>AMT_REQ_CREDIT_BUREAU_YEAR</th>\n",
              "    </tr>\n",
              "  </thead>\n",
              "  <tbody>\n",
              "    <tr>\n",
              "      <th>0</th>\n",
              "      <td>100002.0</td>\n",
              "      <td>1.0</td>\n",
              "      <td>0.0</td>\n",
              "      <td>202500.0</td>\n",
              "      <td>406597.5</td>\n",
              "      <td>24700.5</td>\n",
              "      <td>351000.0</td>\n",
              "      <td>0.018801</td>\n",
              "      <td>-9461.0</td>\n",
              "      <td>-637.0</td>\n",
              "      <td>...</td>\n",
              "      <td>0.0</td>\n",
              "      <td>0.0</td>\n",
              "      <td>0.0</td>\n",
              "      <td>0.0</td>\n",
              "      <td>0.0</td>\n",
              "      <td>0.0</td>\n",
              "      <td>0.0</td>\n",
              "      <td>0.0</td>\n",
              "      <td>0.0</td>\n",
              "      <td>1.0</td>\n",
              "    </tr>\n",
              "    <tr>\n",
              "      <th>1</th>\n",
              "      <td>100003.0</td>\n",
              "      <td>0.0</td>\n",
              "      <td>0.0</td>\n",
              "      <td>270000.0</td>\n",
              "      <td>1293502.5</td>\n",
              "      <td>35698.5</td>\n",
              "      <td>1129500.0</td>\n",
              "      <td>0.003541</td>\n",
              "      <td>-16765.0</td>\n",
              "      <td>-1188.0</td>\n",
              "      <td>...</td>\n",
              "      <td>0.0</td>\n",
              "      <td>0.0</td>\n",
              "      <td>0.0</td>\n",
              "      <td>0.0</td>\n",
              "      <td>0.0</td>\n",
              "      <td>0.0</td>\n",
              "      <td>0.0</td>\n",
              "      <td>0.0</td>\n",
              "      <td>0.0</td>\n",
              "      <td>0.0</td>\n",
              "    </tr>\n",
              "    <tr>\n",
              "      <th>2</th>\n",
              "      <td>100004.0</td>\n",
              "      <td>0.0</td>\n",
              "      <td>0.0</td>\n",
              "      <td>67500.0</td>\n",
              "      <td>135000.0</td>\n",
              "      <td>6750.0</td>\n",
              "      <td>135000.0</td>\n",
              "      <td>0.010032</td>\n",
              "      <td>-19046.0</td>\n",
              "      <td>-225.0</td>\n",
              "      <td>...</td>\n",
              "      <td>0.0</td>\n",
              "      <td>0.0</td>\n",
              "      <td>0.0</td>\n",
              "      <td>0.0</td>\n",
              "      <td>0.0</td>\n",
              "      <td>0.0</td>\n",
              "      <td>0.0</td>\n",
              "      <td>0.0</td>\n",
              "      <td>0.0</td>\n",
              "      <td>0.0</td>\n",
              "    </tr>\n",
              "    <tr>\n",
              "      <th>3</th>\n",
              "      <td>100006.0</td>\n",
              "      <td>0.0</td>\n",
              "      <td>0.0</td>\n",
              "      <td>135000.0</td>\n",
              "      <td>312682.5</td>\n",
              "      <td>29686.5</td>\n",
              "      <td>297000.0</td>\n",
              "      <td>0.008019</td>\n",
              "      <td>-19005.0</td>\n",
              "      <td>-3039.0</td>\n",
              "      <td>...</td>\n",
              "      <td>0.0</td>\n",
              "      <td>0.0</td>\n",
              "      <td>0.0</td>\n",
              "      <td>0.0</td>\n",
              "      <td>0.0</td>\n",
              "      <td>0.0</td>\n",
              "      <td>0.0</td>\n",
              "      <td>0.0</td>\n",
              "      <td>0.0</td>\n",
              "      <td>1.0</td>\n",
              "    </tr>\n",
              "    <tr>\n",
              "      <th>4</th>\n",
              "      <td>100007.0</td>\n",
              "      <td>0.0</td>\n",
              "      <td>0.0</td>\n",
              "      <td>121500.0</td>\n",
              "      <td>513000.0</td>\n",
              "      <td>21865.5</td>\n",
              "      <td>513000.0</td>\n",
              "      <td>0.028663</td>\n",
              "      <td>-19932.0</td>\n",
              "      <td>-3038.0</td>\n",
              "      <td>...</td>\n",
              "      <td>0.0</td>\n",
              "      <td>0.0</td>\n",
              "      <td>0.0</td>\n",
              "      <td>0.0</td>\n",
              "      <td>0.0</td>\n",
              "      <td>0.0</td>\n",
              "      <td>0.0</td>\n",
              "      <td>0.0</td>\n",
              "      <td>0.0</td>\n",
              "      <td>0.0</td>\n",
              "    </tr>\n",
              "  </tbody>\n",
              "</table>\n",
              "<p>5 rows × 106 columns</p>\n",
              "</div>\n",
              "      <button class=\"colab-df-convert\" onclick=\"convertToInteractive('df-83a79c92-4690-41c6-95a0-3a3372af3666')\"\n",
              "              title=\"Convert this dataframe to an interactive table.\"\n",
              "              style=\"display:none;\">\n",
              "        \n",
              "  <svg xmlns=\"http://www.w3.org/2000/svg\" height=\"24px\"viewBox=\"0 0 24 24\"\n",
              "       width=\"24px\">\n",
              "    <path d=\"M0 0h24v24H0V0z\" fill=\"none\"/>\n",
              "    <path d=\"M18.56 5.44l.94 2.06.94-2.06 2.06-.94-2.06-.94-.94-2.06-.94 2.06-2.06.94zm-11 1L8.5 8.5l.94-2.06 2.06-.94-2.06-.94L8.5 2.5l-.94 2.06-2.06.94zm10 10l.94 2.06.94-2.06 2.06-.94-2.06-.94-.94-2.06-.94 2.06-2.06.94z\"/><path d=\"M17.41 7.96l-1.37-1.37c-.4-.4-.92-.59-1.43-.59-.52 0-1.04.2-1.43.59L10.3 9.45l-7.72 7.72c-.78.78-.78 2.05 0 2.83L4 21.41c.39.39.9.59 1.41.59.51 0 1.02-.2 1.41-.59l7.78-7.78 2.81-2.81c.8-.78.8-2.07 0-2.86zM5.41 20L4 18.59l7.72-7.72 1.47 1.35L5.41 20z\"/>\n",
              "  </svg>\n",
              "      </button>\n",
              "      \n",
              "  <style>\n",
              "    .colab-df-container {\n",
              "      display:flex;\n",
              "      flex-wrap:wrap;\n",
              "      gap: 12px;\n",
              "    }\n",
              "\n",
              "    .colab-df-convert {\n",
              "      background-color: #E8F0FE;\n",
              "      border: none;\n",
              "      border-radius: 50%;\n",
              "      cursor: pointer;\n",
              "      display: none;\n",
              "      fill: #1967D2;\n",
              "      height: 32px;\n",
              "      padding: 0 0 0 0;\n",
              "      width: 32px;\n",
              "    }\n",
              "\n",
              "    .colab-df-convert:hover {\n",
              "      background-color: #E2EBFA;\n",
              "      box-shadow: 0px 1px 2px rgba(60, 64, 67, 0.3), 0px 1px 3px 1px rgba(60, 64, 67, 0.15);\n",
              "      fill: #174EA6;\n",
              "    }\n",
              "\n",
              "    [theme=dark] .colab-df-convert {\n",
              "      background-color: #3B4455;\n",
              "      fill: #D2E3FC;\n",
              "    }\n",
              "\n",
              "    [theme=dark] .colab-df-convert:hover {\n",
              "      background-color: #434B5C;\n",
              "      box-shadow: 0px 1px 3px 1px rgba(0, 0, 0, 0.15);\n",
              "      filter: drop-shadow(0px 1px 2px rgba(0, 0, 0, 0.3));\n",
              "      fill: #FFFFFF;\n",
              "    }\n",
              "  </style>\n",
              "\n",
              "      <script>\n",
              "        const buttonEl =\n",
              "          document.querySelector('#df-83a79c92-4690-41c6-95a0-3a3372af3666 button.colab-df-convert');\n",
              "        buttonEl.style.display =\n",
              "          google.colab.kernel.accessAllowed ? 'block' : 'none';\n",
              "\n",
              "        async function convertToInteractive(key) {\n",
              "          const element = document.querySelector('#df-83a79c92-4690-41c6-95a0-3a3372af3666');\n",
              "          const dataTable =\n",
              "            await google.colab.kernel.invokeFunction('convertToInteractive',\n",
              "                                                     [key], {});\n",
              "          if (!dataTable) return;\n",
              "\n",
              "          const docLinkHtml = 'Like what you see? Visit the ' +\n",
              "            '<a target=\"_blank\" href=https://colab.research.google.com/notebooks/data_table.ipynb>data table notebook</a>'\n",
              "            + ' to learn more about interactive tables.';\n",
              "          element.innerHTML = '';\n",
              "          dataTable['output_type'] = 'display_data';\n",
              "          await google.colab.output.renderOutput(dataTable, element);\n",
              "          const docLink = document.createElement('div');\n",
              "          docLink.innerHTML = docLinkHtml;\n",
              "          element.appendChild(docLink);\n",
              "        }\n",
              "      </script>\n",
              "    </div>\n",
              "  </div>\n",
              "  "
            ]
          },
          "metadata": {},
          "execution_count": 11
        }
      ]
    },
    {
      "cell_type": "code",
      "source": [
        "cat_columns = data.select_dtypes(include=['object']).columns\n",
        "print(\"total number of categorical Columns :\", len(cat_columns))\n",
        "cat_columns"
      ],
      "metadata": {
        "colab": {
          "base_uri": "https://localhost:8080/"
        },
        "id": "-fj5fRTyyCdq",
        "outputId": "76281621-b611-4881-d1b5-ea80522b86cd"
      },
      "id": "-fj5fRTyyCdq",
      "execution_count": null,
      "outputs": [
        {
          "output_type": "stream",
          "name": "stdout",
          "text": [
            "total number of categorical Columns : 16\n"
          ]
        },
        {
          "output_type": "execute_result",
          "data": {
            "text/plain": [
              "Index(['NAME_CONTRACT_TYPE', 'CODE_GENDER', 'FLAG_OWN_CAR', 'FLAG_OWN_REALTY',\n",
              "       'NAME_TYPE_SUITE', 'NAME_INCOME_TYPE', 'NAME_EDUCATION_TYPE',\n",
              "       'NAME_FAMILY_STATUS', 'NAME_HOUSING_TYPE', 'OCCUPATION_TYPE',\n",
              "       'WEEKDAY_APPR_PROCESS_START', 'ORGANIZATION_TYPE', 'FONDKAPREMONT_MODE',\n",
              "       'HOUSETYPE_MODE', 'WALLSMATERIAL_MODE', 'EMERGENCYSTATE_MODE'],\n",
              "      dtype='object')"
            ]
          },
          "metadata": {},
          "execution_count": 12
        }
      ]
    },
    {
      "cell_type": "code",
      "source": [
        "categoricalData = data[cat_columns]"
      ],
      "metadata": {
        "id": "-gVGtj-92xLP"
      },
      "execution_count": null,
      "outputs": [],
      "id": "-gVGtj-92xLP"
    },
    {
      "cell_type": "code",
      "source": [
        "len(categoricalData)"
      ],
      "metadata": {
        "colab": {
          "base_uri": "https://localhost:8080/"
        },
        "id": "fnDAHKICDgu5",
        "outputId": "2a812094-2c4d-44fa-b9ab-c14572ac90ba"
      },
      "id": "fnDAHKICDgu5",
      "execution_count": null,
      "outputs": [
        {
          "output_type": "execute_result",
          "data": {
            "text/plain": [
              "307511"
            ]
          },
          "metadata": {},
          "execution_count": 14
        }
      ]
    },
    {
      "cell_type": "code",
      "source": [
        "categoricalData.isnull().sum().sort_values(ascending = False)/len(categoricalData)*100"
      ],
      "metadata": {
        "colab": {
          "base_uri": "https://localhost:8080/"
        },
        "outputId": "f504836c-dcec-4e4c-9257-5f69b8cd2142",
        "id": "x3Y0eQ0i2xLQ"
      },
      "execution_count": null,
      "outputs": [
        {
          "output_type": "execute_result",
          "data": {
            "text/plain": [
              "FONDKAPREMONT_MODE            68.386172\n",
              "WALLSMATERIAL_MODE            50.840783\n",
              "HOUSETYPE_MODE                50.176091\n",
              "EMERGENCYSTATE_MODE           47.398304\n",
              "OCCUPATION_TYPE               31.345545\n",
              "NAME_TYPE_SUITE                0.420148\n",
              "NAME_CONTRACT_TYPE             0.000000\n",
              "CODE_GENDER                    0.000000\n",
              "FLAG_OWN_CAR                   0.000000\n",
              "FLAG_OWN_REALTY                0.000000\n",
              "NAME_INCOME_TYPE               0.000000\n",
              "NAME_EDUCATION_TYPE            0.000000\n",
              "NAME_FAMILY_STATUS             0.000000\n",
              "NAME_HOUSING_TYPE              0.000000\n",
              "WEEKDAY_APPR_PROCESS_START     0.000000\n",
              "ORGANIZATION_TYPE              0.000000\n",
              "dtype: float64"
            ]
          },
          "metadata": {},
          "execution_count": 15
        }
      ],
      "id": "x3Y0eQ0i2xLQ"
    },
    {
      "cell_type": "code",
      "source": [
        "categoricalData.columns[categoricalData.isnull().any()]"
      ],
      "metadata": {
        "colab": {
          "base_uri": "https://localhost:8080/"
        },
        "outputId": "d665ee01-56b0-4c4f-8fcb-6bec7c7f6e5f",
        "id": "ueMk8ktD2xLQ"
      },
      "execution_count": null,
      "outputs": [
        {
          "output_type": "execute_result",
          "data": {
            "text/plain": [
              "Index(['NAME_TYPE_SUITE', 'OCCUPATION_TYPE', 'FONDKAPREMONT_MODE',\n",
              "       'HOUSETYPE_MODE', 'WALLSMATERIAL_MODE', 'EMERGENCYSTATE_MODE'],\n",
              "      dtype='object')"
            ]
          },
          "metadata": {},
          "execution_count": 16
        }
      ],
      "id": "ueMk8ktD2xLQ"
    },
    {
      "cell_type": "code",
      "source": [
        "categoricalData.columns[categoricalData.isnull().any()]"
      ],
      "metadata": {
        "id": "1OUqFOX-yCXo",
        "colab": {
          "base_uri": "https://localhost:8080/"
        },
        "outputId": "bec0e815-ea80-436d-8db5-1a60eb3ab23f"
      },
      "id": "1OUqFOX-yCXo",
      "execution_count": null,
      "outputs": [
        {
          "output_type": "execute_result",
          "data": {
            "text/plain": [
              "Index(['NAME_TYPE_SUITE', 'OCCUPATION_TYPE', 'FONDKAPREMONT_MODE',\n",
              "       'HOUSETYPE_MODE', 'WALLSMATERIAL_MODE', 'EMERGENCYSTATE_MODE'],\n",
              "      dtype='object')"
            ]
          },
          "metadata": {},
          "execution_count": 17
        }
      ]
    },
    {
      "cell_type": "code",
      "source": [
        "from sklearn.preprocessing import OrdinalEncoder\n",
        "from sklearn.impute import KNNImputer\n",
        "\n",
        "ordinal_encoder = OrdinalEncoder()\n",
        "# imputer = KNNImputer(n_neighbors=1)\n",
        "\n",
        "categoricalData = pd.DataFrame(ordinal_encoder.fit_transform(categoricalData), columns=cat_columns) # convert categorical features (discrete) to ordinal integers  \n",
        "\n",
        "for c in categoricalData.columns[categoricalData.isnull().any()]:\n",
        "    categoricalData[c] = categoricalData[c].fillna(categoricalData[c].mode()[0])\n",
        "\n",
        "# imputer = imputer.fit(categoricalData)\n",
        "# categoricalData = pd.DataFrame(imputer.transform(categoricalData), columns=cat_columns) # Handling Missing Data\n",
        "# categoricalData = pd.DataFrame(scaler.fit_transform(categoricalData), columns=cat_columns) # Data Normalization\n",
        "categoricalData.head()"
      ],
      "metadata": {
        "id": "eJFWMqkj2smN",
        "colab": {
          "base_uri": "https://localhost:8080/",
          "height": 270
        },
        "outputId": "11760309-fb32-4542-cdd1-d7d636aa764a"
      },
      "id": "eJFWMqkj2smN",
      "execution_count": null,
      "outputs": [
        {
          "output_type": "execute_result",
          "data": {
            "text/plain": [
              "   NAME_CONTRACT_TYPE  CODE_GENDER  FLAG_OWN_CAR  FLAG_OWN_REALTY  \\\n",
              "0                 0.0          1.0           0.0              1.0   \n",
              "1                 0.0          0.0           0.0              0.0   \n",
              "2                 1.0          1.0           1.0              1.0   \n",
              "3                 0.0          0.0           0.0              1.0   \n",
              "4                 0.0          1.0           0.0              1.0   \n",
              "\n",
              "   NAME_TYPE_SUITE  NAME_INCOME_TYPE  NAME_EDUCATION_TYPE  NAME_FAMILY_STATUS  \\\n",
              "0              6.0               7.0                  4.0                 3.0   \n",
              "1              1.0               4.0                  1.0                 1.0   \n",
              "2              6.0               7.0                  4.0                 3.0   \n",
              "3              6.0               7.0                  4.0                 0.0   \n",
              "4              6.0               7.0                  4.0                 3.0   \n",
              "\n",
              "   NAME_HOUSING_TYPE  OCCUPATION_TYPE  WEEKDAY_APPR_PROCESS_START  \\\n",
              "0                1.0              8.0                         6.0   \n",
              "1                1.0              3.0                         1.0   \n",
              "2                1.0              8.0                         1.0   \n",
              "3                1.0              8.0                         6.0   \n",
              "4                1.0              3.0                         4.0   \n",
              "\n",
              "   ORGANIZATION_TYPE  FONDKAPREMONT_MODE  HOUSETYPE_MODE  WALLSMATERIAL_MODE  \\\n",
              "0                5.0                 2.0             0.0                 5.0   \n",
              "1               39.0                 2.0             0.0                 0.0   \n",
              "2               11.0                 2.0             0.0                 4.0   \n",
              "3                5.0                 2.0             0.0                 4.0   \n",
              "4               37.0                 2.0             0.0                 4.0   \n",
              "\n",
              "   EMERGENCYSTATE_MODE  \n",
              "0                  0.0  \n",
              "1                  0.0  \n",
              "2                  0.0  \n",
              "3                  0.0  \n",
              "4                  0.0  "
            ],
            "text/html": [
              "\n",
              "  <div id=\"df-86eef1d4-c0a6-4599-8fef-d0fd195950f7\">\n",
              "    <div class=\"colab-df-container\">\n",
              "      <div>\n",
              "<style scoped>\n",
              "    .dataframe tbody tr th:only-of-type {\n",
              "        vertical-align: middle;\n",
              "    }\n",
              "\n",
              "    .dataframe tbody tr th {\n",
              "        vertical-align: top;\n",
              "    }\n",
              "\n",
              "    .dataframe thead th {\n",
              "        text-align: right;\n",
              "    }\n",
              "</style>\n",
              "<table border=\"1\" class=\"dataframe\">\n",
              "  <thead>\n",
              "    <tr style=\"text-align: right;\">\n",
              "      <th></th>\n",
              "      <th>NAME_CONTRACT_TYPE</th>\n",
              "      <th>CODE_GENDER</th>\n",
              "      <th>FLAG_OWN_CAR</th>\n",
              "      <th>FLAG_OWN_REALTY</th>\n",
              "      <th>NAME_TYPE_SUITE</th>\n",
              "      <th>NAME_INCOME_TYPE</th>\n",
              "      <th>NAME_EDUCATION_TYPE</th>\n",
              "      <th>NAME_FAMILY_STATUS</th>\n",
              "      <th>NAME_HOUSING_TYPE</th>\n",
              "      <th>OCCUPATION_TYPE</th>\n",
              "      <th>WEEKDAY_APPR_PROCESS_START</th>\n",
              "      <th>ORGANIZATION_TYPE</th>\n",
              "      <th>FONDKAPREMONT_MODE</th>\n",
              "      <th>HOUSETYPE_MODE</th>\n",
              "      <th>WALLSMATERIAL_MODE</th>\n",
              "      <th>EMERGENCYSTATE_MODE</th>\n",
              "    </tr>\n",
              "  </thead>\n",
              "  <tbody>\n",
              "    <tr>\n",
              "      <th>0</th>\n",
              "      <td>0.0</td>\n",
              "      <td>1.0</td>\n",
              "      <td>0.0</td>\n",
              "      <td>1.0</td>\n",
              "      <td>6.0</td>\n",
              "      <td>7.0</td>\n",
              "      <td>4.0</td>\n",
              "      <td>3.0</td>\n",
              "      <td>1.0</td>\n",
              "      <td>8.0</td>\n",
              "      <td>6.0</td>\n",
              "      <td>5.0</td>\n",
              "      <td>2.0</td>\n",
              "      <td>0.0</td>\n",
              "      <td>5.0</td>\n",
              "      <td>0.0</td>\n",
              "    </tr>\n",
              "    <tr>\n",
              "      <th>1</th>\n",
              "      <td>0.0</td>\n",
              "      <td>0.0</td>\n",
              "      <td>0.0</td>\n",
              "      <td>0.0</td>\n",
              "      <td>1.0</td>\n",
              "      <td>4.0</td>\n",
              "      <td>1.0</td>\n",
              "      <td>1.0</td>\n",
              "      <td>1.0</td>\n",
              "      <td>3.0</td>\n",
              "      <td>1.0</td>\n",
              "      <td>39.0</td>\n",
              "      <td>2.0</td>\n",
              "      <td>0.0</td>\n",
              "      <td>0.0</td>\n",
              "      <td>0.0</td>\n",
              "    </tr>\n",
              "    <tr>\n",
              "      <th>2</th>\n",
              "      <td>1.0</td>\n",
              "      <td>1.0</td>\n",
              "      <td>1.0</td>\n",
              "      <td>1.0</td>\n",
              "      <td>6.0</td>\n",
              "      <td>7.0</td>\n",
              "      <td>4.0</td>\n",
              "      <td>3.0</td>\n",
              "      <td>1.0</td>\n",
              "      <td>8.0</td>\n",
              "      <td>1.0</td>\n",
              "      <td>11.0</td>\n",
              "      <td>2.0</td>\n",
              "      <td>0.0</td>\n",
              "      <td>4.0</td>\n",
              "      <td>0.0</td>\n",
              "    </tr>\n",
              "    <tr>\n",
              "      <th>3</th>\n",
              "      <td>0.0</td>\n",
              "      <td>0.0</td>\n",
              "      <td>0.0</td>\n",
              "      <td>1.0</td>\n",
              "      <td>6.0</td>\n",
              "      <td>7.0</td>\n",
              "      <td>4.0</td>\n",
              "      <td>0.0</td>\n",
              "      <td>1.0</td>\n",
              "      <td>8.0</td>\n",
              "      <td>6.0</td>\n",
              "      <td>5.0</td>\n",
              "      <td>2.0</td>\n",
              "      <td>0.0</td>\n",
              "      <td>4.0</td>\n",
              "      <td>0.0</td>\n",
              "    </tr>\n",
              "    <tr>\n",
              "      <th>4</th>\n",
              "      <td>0.0</td>\n",
              "      <td>1.0</td>\n",
              "      <td>0.0</td>\n",
              "      <td>1.0</td>\n",
              "      <td>6.0</td>\n",
              "      <td>7.0</td>\n",
              "      <td>4.0</td>\n",
              "      <td>3.0</td>\n",
              "      <td>1.0</td>\n",
              "      <td>3.0</td>\n",
              "      <td>4.0</td>\n",
              "      <td>37.0</td>\n",
              "      <td>2.0</td>\n",
              "      <td>0.0</td>\n",
              "      <td>4.0</td>\n",
              "      <td>0.0</td>\n",
              "    </tr>\n",
              "  </tbody>\n",
              "</table>\n",
              "</div>\n",
              "      <button class=\"colab-df-convert\" onclick=\"convertToInteractive('df-86eef1d4-c0a6-4599-8fef-d0fd195950f7')\"\n",
              "              title=\"Convert this dataframe to an interactive table.\"\n",
              "              style=\"display:none;\">\n",
              "        \n",
              "  <svg xmlns=\"http://www.w3.org/2000/svg\" height=\"24px\"viewBox=\"0 0 24 24\"\n",
              "       width=\"24px\">\n",
              "    <path d=\"M0 0h24v24H0V0z\" fill=\"none\"/>\n",
              "    <path d=\"M18.56 5.44l.94 2.06.94-2.06 2.06-.94-2.06-.94-.94-2.06-.94 2.06-2.06.94zm-11 1L8.5 8.5l.94-2.06 2.06-.94-2.06-.94L8.5 2.5l-.94 2.06-2.06.94zm10 10l.94 2.06.94-2.06 2.06-.94-2.06-.94-.94-2.06-.94 2.06-2.06.94z\"/><path d=\"M17.41 7.96l-1.37-1.37c-.4-.4-.92-.59-1.43-.59-.52 0-1.04.2-1.43.59L10.3 9.45l-7.72 7.72c-.78.78-.78 2.05 0 2.83L4 21.41c.39.39.9.59 1.41.59.51 0 1.02-.2 1.41-.59l7.78-7.78 2.81-2.81c.8-.78.8-2.07 0-2.86zM5.41 20L4 18.59l7.72-7.72 1.47 1.35L5.41 20z\"/>\n",
              "  </svg>\n",
              "      </button>\n",
              "      \n",
              "  <style>\n",
              "    .colab-df-container {\n",
              "      display:flex;\n",
              "      flex-wrap:wrap;\n",
              "      gap: 12px;\n",
              "    }\n",
              "\n",
              "    .colab-df-convert {\n",
              "      background-color: #E8F0FE;\n",
              "      border: none;\n",
              "      border-radius: 50%;\n",
              "      cursor: pointer;\n",
              "      display: none;\n",
              "      fill: #1967D2;\n",
              "      height: 32px;\n",
              "      padding: 0 0 0 0;\n",
              "      width: 32px;\n",
              "    }\n",
              "\n",
              "    .colab-df-convert:hover {\n",
              "      background-color: #E2EBFA;\n",
              "      box-shadow: 0px 1px 2px rgba(60, 64, 67, 0.3), 0px 1px 3px 1px rgba(60, 64, 67, 0.15);\n",
              "      fill: #174EA6;\n",
              "    }\n",
              "\n",
              "    [theme=dark] .colab-df-convert {\n",
              "      background-color: #3B4455;\n",
              "      fill: #D2E3FC;\n",
              "    }\n",
              "\n",
              "    [theme=dark] .colab-df-convert:hover {\n",
              "      background-color: #434B5C;\n",
              "      box-shadow: 0px 1px 3px 1px rgba(0, 0, 0, 0.15);\n",
              "      filter: drop-shadow(0px 1px 2px rgba(0, 0, 0, 0.3));\n",
              "      fill: #FFFFFF;\n",
              "    }\n",
              "  </style>\n",
              "\n",
              "      <script>\n",
              "        const buttonEl =\n",
              "          document.querySelector('#df-86eef1d4-c0a6-4599-8fef-d0fd195950f7 button.colab-df-convert');\n",
              "        buttonEl.style.display =\n",
              "          google.colab.kernel.accessAllowed ? 'block' : 'none';\n",
              "\n",
              "        async function convertToInteractive(key) {\n",
              "          const element = document.querySelector('#df-86eef1d4-c0a6-4599-8fef-d0fd195950f7');\n",
              "          const dataTable =\n",
              "            await google.colab.kernel.invokeFunction('convertToInteractive',\n",
              "                                                     [key], {});\n",
              "          if (!dataTable) return;\n",
              "\n",
              "          const docLinkHtml = 'Like what you see? Visit the ' +\n",
              "            '<a target=\"_blank\" href=https://colab.research.google.com/notebooks/data_table.ipynb>data table notebook</a>'\n",
              "            + ' to learn more about interactive tables.';\n",
              "          element.innerHTML = '';\n",
              "          dataTable['output_type'] = 'display_data';\n",
              "          await google.colab.output.renderOutput(dataTable, element);\n",
              "          const docLink = document.createElement('div');\n",
              "          docLink.innerHTML = docLinkHtml;\n",
              "          element.appendChild(docLink);\n",
              "        }\n",
              "      </script>\n",
              "    </div>\n",
              "  </div>\n",
              "  "
            ]
          },
          "metadata": {},
          "execution_count": 18
        }
      ]
    },
    {
      "cell_type": "code",
      "source": [
        "_data = pd.concat([categoricalData,numericalData],axis=1, join='inner')"
      ],
      "metadata": {
        "id": "2sS97CSY2sjP"
      },
      "id": "2sS97CSY2sjP",
      "execution_count": null,
      "outputs": []
    },
    {
      "cell_type": "code",
      "source": [
        "from sklearn.model_selection import train_test_split\n",
        "from sklearn.ensemble import IsolationForest\n",
        "from sklearn.metrics import classification_report"
      ],
      "metadata": {
        "id": "LzmYAVrM2saS"
      },
      "id": "LzmYAVrM2saS",
      "execution_count": null,
      "outputs": []
    },
    {
      "cell_type": "code",
      "source": [
        "X = _data.drop([\"TARGET\"], axis=1)\n",
        "y = _data[[\"TARGET\"]]"
      ],
      "metadata": {
        "id": "juIHVmODohNL"
      },
      "id": "juIHVmODohNL",
      "execution_count": null,
      "outputs": []
    },
    {
      "cell_type": "code",
      "source": [
        "from sklearn.preprocessing import StandardScaler\n",
        "scaler = StandardScaler()\n",
        "scaler.fit(X)\n",
        "X = scaler.transform(X)"
      ],
      "metadata": {
        "id": "_f19Ox8GoyUT"
      },
      "id": "_f19Ox8GoyUT",
      "execution_count": null,
      "outputs": []
    },
    {
      "cell_type": "code",
      "source": [
        "train, test = train_test_split(_data)# X_val\n",
        "X_train = train.drop([\"TARGET\"], axis=1)\n",
        "y_train = train[[\"TARGET\"]]\n",
        "\n",
        "X_test = test.drop([\"TARGET\"], axis=1)\n",
        "y_test = test[[\"TARGET\"]]"
      ],
      "metadata": {
        "id": "vJEPYBED2sdJ"
      },
      "id": "vJEPYBED2sdJ",
      "execution_count": null,
      "outputs": []
    },
    {
      "cell_type": "code",
      "source": [
        "X_train = scaler.transform(X_train)\n",
        "X_test = scaler.transform(X_test)"
      ],
      "metadata": {
        "colab": {
          "base_uri": "https://localhost:8080/"
        },
        "id": "7hblaH4OiCcN",
        "outputId": "05804c6e-f9b8-41bd-8729-636355026d4d"
      },
      "id": "7hblaH4OiCcN",
      "execution_count": null,
      "outputs": [
        {
          "output_type": "stream",
          "name": "stderr",
          "text": [
            "/usr/local/lib/python3.7/dist-packages/sklearn/base.py:451: UserWarning: X does not have valid feature names, but StandardScaler was fitted with feature names\n",
            "  \"X does not have valid feature names, but\"\n",
            "/usr/local/lib/python3.7/dist-packages/sklearn/base.py:451: UserWarning: X does not have valid feature names, but StandardScaler was fitted with feature names\n",
            "  \"X does not have valid feature names, but\"\n"
          ]
        }
      ]
    },
    {
      "cell_type": "code",
      "source": [
        "X_train.shape,y_train.shape"
      ],
      "metadata": {
        "id": "_OrcDWAY2sQ9",
        "colab": {
          "base_uri": "https://localhost:8080/"
        },
        "outputId": "4c7223a2-55ca-4baf-9e5f-ef0095f0781b"
      },
      "id": "_OrcDWAY2sQ9",
      "execution_count": null,
      "outputs": [
        {
          "output_type": "execute_result",
          "data": {
            "text/plain": [
              "((230633, 121), (230633, 1))"
            ]
          },
          "metadata": {},
          "execution_count": 29
        }
      ]
    },
    {
      "cell_type": "code",
      "source": [
        "X_test.shape,y_test.shape"
      ],
      "metadata": {
        "id": "__brWt8G2sOM",
        "colab": {
          "base_uri": "https://localhost:8080/"
        },
        "outputId": "a62b9070-ba2f-42b4-b0e1-48ee3cd25cfa"
      },
      "id": "__brWt8G2sOM",
      "execution_count": null,
      "outputs": [
        {
          "output_type": "execute_result",
          "data": {
            "text/plain": [
              "((76878, 121), (76878, 1))"
            ]
          },
          "metadata": {},
          "execution_count": 30
        }
      ]
    },
    {
      "cell_type": "code",
      "source": [
        "ifm = IsolationForest()"
      ],
      "metadata": {
        "id": "-wOvclLga6RL"
      },
      "id": "-wOvclLga6RL",
      "execution_count": null,
      "outputs": []
    },
    {
      "cell_type": "code",
      "source": [
        "ifm.fit(X_train)"
      ],
      "metadata": {
        "colab": {
          "base_uri": "https://localhost:8080/"
        },
        "id": "NB7prJyUa6PW",
        "outputId": "0d0024ce-591e-4ee8-bf2a-30cc40969052"
      },
      "id": "NB7prJyUa6PW",
      "execution_count": null,
      "outputs": [
        {
          "output_type": "execute_result",
          "data": {
            "text/plain": [
              "IsolationForest()"
            ]
          },
          "metadata": {},
          "execution_count": 60
        }
      ]
    },
    {
      "cell_type": "code",
      "source": [
        "y_pred = ifm.predict(X_train)\n",
        "y_pred = [1 if pred == -1 else 0 for pred in y_pred]"
      ],
      "metadata": {
        "id": "DKOpIOzcbo0T"
      },
      "id": "DKOpIOzcbo0T",
      "execution_count": null,
      "outputs": []
    },
    {
      "cell_type": "code",
      "source": [
        "print(classification_report(y_pred, y, digits=3))"
      ],
      "metadata": {
        "colab": {
          "base_uri": "https://localhost:8080/"
        },
        "id": "3BfdTmNBa6MQ",
        "outputId": "5ec1d0ca-020d-48d0-d84a-9c74c4c47105"
      },
      "id": "3BfdTmNBa6MQ",
      "execution_count": null,
      "outputs": [
        {
          "output_type": "stream",
          "name": "stdout",
          "text": [
            "              precision    recall  f1-score   support\n",
            "\n",
            "           0      0.752     0.917     0.826    231904\n",
            "           1      0.222     0.073     0.110     75607\n",
            "\n",
            "    accuracy                          0.709    307511\n",
            "   macro avg      0.487     0.495     0.468    307511\n",
            "weighted avg      0.622     0.709     0.650    307511\n",
            "\n"
          ]
        }
      ]
    },
    {
      "cell_type": "code",
      "source": [
        "y.value_counts()"
      ],
      "metadata": {
        "colab": {
          "base_uri": "https://localhost:8080/"
        },
        "id": "w9IaMyYPa6I_",
        "outputId": "9b93eba7-f3e0-4a25-b08f-a30f2e3a0752"
      },
      "id": "w9IaMyYPa6I_",
      "execution_count": null,
      "outputs": [
        {
          "output_type": "execute_result",
          "data": {
            "text/plain": [
              "TARGET\n",
              "0.0       282686\n",
              "1.0        24825\n",
              "dtype: int64"
            ]
          },
          "metadata": {},
          "execution_count": 51
        }
      ]
    },
    {
      "cell_type": "code",
      "source": [
        "pip install umap-learn"
      ],
      "metadata": {
        "colab": {
          "base_uri": "https://localhost:8080/"
        },
        "id": "fIIm0NyWi78_",
        "outputId": "d4949944-3159-4113-c4db-2976fc908129"
      },
      "id": "fIIm0NyWi78_",
      "execution_count": null,
      "outputs": [
        {
          "output_type": "stream",
          "name": "stdout",
          "text": [
            "Looking in indexes: https://pypi.org/simple, https://us-python.pkg.dev/colab-wheels/public/simple/\n",
            "Collecting umap-learn\n",
            "  Downloading umap-learn-0.5.3.tar.gz (88 kB)\n",
            "\u001b[K     |████████████████████████████████| 88 kB 3.0 MB/s \n",
            "\u001b[?25hRequirement already satisfied: numpy>=1.17 in /usr/local/lib/python3.7/dist-packages (from umap-learn) (1.21.6)\n",
            "Requirement already satisfied: scikit-learn>=0.22 in /usr/local/lib/python3.7/dist-packages (from umap-learn) (1.0.2)\n",
            "Requirement already satisfied: scipy>=1.0 in /usr/local/lib/python3.7/dist-packages (from umap-learn) (1.7.3)\n",
            "Requirement already satisfied: numba>=0.49 in /usr/local/lib/python3.7/dist-packages (from umap-learn) (0.56.2)\n",
            "Collecting pynndescent>=0.5\n",
            "  Downloading pynndescent-0.5.7.tar.gz (1.1 MB)\n",
            "\u001b[K     |████████████████████████████████| 1.1 MB 13.6 MB/s \n",
            "\u001b[?25hRequirement already satisfied: tqdm in /usr/local/lib/python3.7/dist-packages (from umap-learn) (4.64.1)\n",
            "Requirement already satisfied: setuptools<60 in /usr/local/lib/python3.7/dist-packages (from numba>=0.49->umap-learn) (57.4.0)\n",
            "Requirement already satisfied: llvmlite<0.40,>=0.39.0dev0 in /usr/local/lib/python3.7/dist-packages (from numba>=0.49->umap-learn) (0.39.1)\n",
            "Requirement already satisfied: importlib-metadata in /usr/local/lib/python3.7/dist-packages (from numba>=0.49->umap-learn) (4.12.0)\n",
            "Requirement already satisfied: joblib>=0.11 in /usr/local/lib/python3.7/dist-packages (from pynndescent>=0.5->umap-learn) (1.1.0)\n",
            "Requirement already satisfied: threadpoolctl>=2.0.0 in /usr/local/lib/python3.7/dist-packages (from scikit-learn>=0.22->umap-learn) (3.1.0)\n",
            "Requirement already satisfied: typing-extensions>=3.6.4 in /usr/local/lib/python3.7/dist-packages (from importlib-metadata->numba>=0.49->umap-learn) (4.1.1)\n",
            "Requirement already satisfied: zipp>=0.5 in /usr/local/lib/python3.7/dist-packages (from importlib-metadata->numba>=0.49->umap-learn) (3.8.1)\n",
            "Building wheels for collected packages: umap-learn, pynndescent\n",
            "  Building wheel for umap-learn (setup.py) ... \u001b[?25l\u001b[?25hdone\n",
            "  Created wheel for umap-learn: filename=umap_learn-0.5.3-py3-none-any.whl size=82829 sha256=4b9b437703fd8703f70a51fa3d1d36449fe802dc235cae1932d082c0a2deb4b3\n",
            "  Stored in directory: /root/.cache/pip/wheels/b3/52/a5/1fd9e3e76a7ab34f134c07469cd6f16e27ef3a37aeff1fe821\n",
            "  Building wheel for pynndescent (setup.py) ... \u001b[?25l\u001b[?25hdone\n",
            "  Created wheel for pynndescent: filename=pynndescent-0.5.7-py3-none-any.whl size=54286 sha256=dc121d35c3e4398242b9cc7a982611056a4056caae803f1ac18e17267e30524d\n",
            "  Stored in directory: /root/.cache/pip/wheels/7f/2a/f8/7bd5dcec71bd5c669f6f574db3113513696b98f3f9b51f496c\n",
            "Successfully built umap-learn pynndescent\n",
            "Installing collected packages: pynndescent, umap-learn\n",
            "Successfully installed pynndescent-0.5.7 umap-learn-0.5.3\n"
          ]
        }
      ]
    },
    {
      "cell_type": "code",
      "source": [
        "pip install hdbscan"
      ],
      "metadata": {
        "colab": {
          "base_uri": "https://localhost:8080/"
        },
        "id": "H45_qvOknzNz",
        "outputId": "3a5dd68f-3f04-4722-e8af-e057d34132d5"
      },
      "id": "H45_qvOknzNz",
      "execution_count": null,
      "outputs": [
        {
          "output_type": "stream",
          "name": "stdout",
          "text": [
            "Looking in indexes: https://pypi.org/simple, https://us-python.pkg.dev/colab-wheels/public/simple/\n",
            "Collecting hdbscan\n",
            "  Downloading hdbscan-0.8.28.tar.gz (5.2 MB)\n",
            "\u001b[K     |████████████████████████████████| 5.2 MB 4.0 MB/s \n",
            "\u001b[?25h  Installing build dependencies ... \u001b[?25l\u001b[?25hdone\n",
            "  Getting requirements to build wheel ... \u001b[?25l\u001b[?25hdone\n",
            "    Preparing wheel metadata ... \u001b[?25l\u001b[?25hdone\n",
            "Requirement already satisfied: joblib>=1.0 in /usr/local/lib/python3.7/dist-packages (from hdbscan) (1.1.0)\n",
            "Requirement already satisfied: cython>=0.27 in /usr/local/lib/python3.7/dist-packages (from hdbscan) (0.29.32)\n",
            "Requirement already satisfied: scikit-learn>=0.20 in /usr/local/lib/python3.7/dist-packages (from hdbscan) (1.0.2)\n",
            "Requirement already satisfied: scipy>=1.0 in /usr/local/lib/python3.7/dist-packages (from hdbscan) (1.7.3)\n",
            "Requirement already satisfied: numpy>=1.20 in /usr/local/lib/python3.7/dist-packages (from hdbscan) (1.21.6)\n",
            "Requirement already satisfied: threadpoolctl>=2.0.0 in /usr/local/lib/python3.7/dist-packages (from scikit-learn>=0.20->hdbscan) (3.1.0)\n",
            "Building wheels for collected packages: hdbscan\n",
            "  Building wheel for hdbscan (PEP 517) ... \u001b[?25l\u001b[?25hdone\n",
            "  Created wheel for hdbscan: filename=hdbscan-0.8.28-cp37-cp37m-linux_x86_64.whl size=2340281 sha256=7529b5b0a0184250d15569b9f121f5516cb99f023df55b07b77151a1194b6d40\n",
            "  Stored in directory: /root/.cache/pip/wheels/6e/7a/5e/259ccc841c085fc41b99ef4a71e896b62f5161f2bc8a14c97a\n",
            "Successfully built hdbscan\n",
            "Installing collected packages: hdbscan\n",
            "Successfully installed hdbscan-0.8.28\n"
          ]
        }
      ]
    },
    {
      "cell_type": "code",
      "source": [
        "import hdbscan\n",
        "from umap import UMAP"
      ],
      "metadata": {
        "id": "5cgHLopWjH25"
      },
      "id": "5cgHLopWjH25",
      "execution_count": null,
      "outputs": []
    },
    {
      "cell_type": "code",
      "source": [
        "umap_model = UMAP(n_neighbors=20, n_components=36, min_dist=0.0, metric='cosine', low_memory=False, verbose=False)"
      ],
      "metadata": {
        "id": "mDlkh0remF1d"
      },
      "id": "mDlkh0remF1d",
      "execution_count": null,
      "outputs": []
    },
    {
      "cell_type": "code",
      "source": [
        "_umap_X = umap_model.fit_transform(X)"
      ],
      "metadata": {
        "id": "BX4p6G-NoYZy"
      },
      "id": "BX4p6G-NoYZy",
      "execution_count": null,
      "outputs": []
    },
    {
      "cell_type": "code",
      "source": [
        "hdbscan_model =hdbscan.HDBSCAN(min_cluster_size=30, metric='euclidean',cluster_selection_method='eom', prediction_data=True)\n",
        "hdbscan_model.fit(_umap_X)"
      ],
      "metadata": {
        "colab": {
          "base_uri": "https://localhost:8080/"
        },
        "id": "aRdHvu2Ea6F-",
        "outputId": "392f0d72-8fc6-460a-dca6-5ed01d953a48"
      },
      "id": "aRdHvu2Ea6F-",
      "execution_count": null,
      "outputs": [
        {
          "output_type": "execute_result",
          "data": {
            "text/plain": [
              "HDBSCAN(min_cluster_size=30, prediction_data=True)"
            ]
          },
          "metadata": {},
          "execution_count": 129
        }
      ]
    },
    {
      "cell_type": "code",
      "source": [
        "lab = hdbscan_model.labels_"
      ],
      "metadata": {
        "id": "K5PcZCzja6C7"
      },
      "id": "K5PcZCzja6C7",
      "execution_count": null,
      "outputs": []
    },
    {
      "cell_type": "code",
      "source": [
        "_umap_X[0]"
      ],
      "metadata": {
        "colab": {
          "base_uri": "https://localhost:8080/"
        },
        "id": "HZHLs1Suyyz7",
        "outputId": "0daa0c94-0cc8-417d-a71d-3ed27e5b7c3e"
      },
      "id": "HZHLs1Suyyz7",
      "execution_count": null,
      "outputs": [
        {
          "output_type": "execute_result",
          "data": {
            "text/plain": [
              "array([6.697197 , 5.906508 , 5.164149 , 3.3990002, 7.601106 ],\n",
              "      dtype=float32)"
            ]
          },
          "metadata": {},
          "execution_count": 98
        }
      ]
    },
    {
      "cell_type": "code",
      "source": [
        "5701/78859"
      ],
      "metadata": {
        "colab": {
          "base_uri": "https://localhost:8080/"
        },
        "id": "WUhIQB0c9RlG",
        "outputId": "52b957f1-38d3-496b-a60f-7553dae4d2b7"
      },
      "id": "WUhIQB0c9RlG",
      "execution_count": null,
      "outputs": [
        {
          "output_type": "execute_result",
          "data": {
            "text/plain": [
              "0.07229358728870516"
            ]
          },
          "metadata": {},
          "execution_count": 139
        }
      ]
    },
    {
      "cell_type": "code",
      "source": [
        "pd.DataFrame(lab).value_counts()"
      ],
      "metadata": {
        "colab": {
          "base_uri": "https://localhost:8080/"
        },
        "id": "Xa1n3tHUa6AR",
        "outputId": "35a1fc15-bd6d-4672-f96f-d3dba674595c"
      },
      "id": "Xa1n3tHUa6AR",
      "execution_count": null,
      "outputs": [
        {
          "output_type": "execute_result",
          "data": {
            "text/plain": [
              "-1      78859\n",
              " 255    22875\n",
              " 133    10261\n",
              " 155     9472\n",
              " 56      8489\n",
              "        ...  \n",
              " 362       32\n",
              " 367       31\n",
              " 43        30\n",
              " 336       30\n",
              " 112       30\n",
              "Length: 382, dtype: int64"
            ]
          },
          "metadata": {},
          "execution_count": 131
        }
      ]
    },
    {
      "cell_type": "code",
      "source": [
        "y_pred = [1 if pred == -1 else 0 for pred in lab]"
      ],
      "metadata": {
        "id": "hDxfChs4a59a"
      },
      "id": "hDxfChs4a59a",
      "execution_count": null,
      "outputs": []
    },
    {
      "cell_type": "code",
      "source": [
        "labd = {}\n",
        "for i in set(lab):\n",
        "  labd[i] = 0"
      ],
      "metadata": {
        "id": "7xs3ZV5na56v"
      },
      "id": "7xs3ZV5na56v",
      "execution_count": null,
      "outputs": []
    },
    {
      "cell_type": "code",
      "source": [
        "for i in zip(lab,y.values):\n",
        "  if i[1][0] == 1.0:\n",
        "    labd[i[0]] += 1"
      ],
      "metadata": {
        "id": "EAI9_v0ja54o"
      },
      "id": "EAI9_v0ja54o",
      "execution_count": null,
      "outputs": []
    },
    {
      "cell_type": "code",
      "source": [
        "# labd = {}\n",
        "for i in set(lab):\n",
        "  labd[i] /= 24825/100"
      ],
      "metadata": {
        "id": "n2gKvAHExoaq"
      },
      "id": "n2gKvAHExoaq",
      "execution_count": null,
      "outputs": []
    },
    {
      "cell_type": "code",
      "source": [
        "dict(sorted(labd.items(), key=lambda item: item[1], reverse=True))"
      ],
      "metadata": {
        "colab": {
          "base_uri": "https://localhost:8080/"
        },
        "id": "Zj_WAdjpa51B",
        "outputId": "42333723-5a7f-44d7-aadb-e7585f90dd55"
      },
      "id": "Zj_WAdjpa51B",
      "execution_count": null,
      "outputs": [
        {
          "output_type": "execute_result",
          "data": {
            "text/plain": [
              "{-1: 5701,\n",
              " 255: 1783,\n",
              " 133: 1269,\n",
              " 155: 806,\n",
              " 88: 789,\n",
              " 272: 758,\n",
              " 289: 614,\n",
              " 66: 517,\n",
              " 56: 464,\n",
              " 142: 462,\n",
              " 257: 371,\n",
              " 190: 323,\n",
              " 277: 317,\n",
              " 207: 276,\n",
              " 359: 268,\n",
              " 34: 264,\n",
              " 260: 258,\n",
              " 181: 254,\n",
              " 51: 240,\n",
              " 36: 215,\n",
              " 250: 200,\n",
              " 225: 184,\n",
              " 176: 174,\n",
              " 261: 174,\n",
              " 372: 161,\n",
              " 294: 155,\n",
              " 130: 145,\n",
              " 209: 139,\n",
              " 241: 137,\n",
              " 256: 131,\n",
              " 8: 126,\n",
              " 82: 117,\n",
              " 26: 113,\n",
              " 221: 109,\n",
              " 238: 106,\n",
              " 182: 105,\n",
              " 236: 101,\n",
              " 197: 95,\n",
              " 380: 95,\n",
              " 205: 89,\n",
              " 283: 89,\n",
              " 227: 86,\n",
              " 154: 84,\n",
              " 175: 83,\n",
              " 106: 81,\n",
              " 169: 81,\n",
              " 231: 80,\n",
              " 350: 78,\n",
              " 252: 77,\n",
              " 217: 72,\n",
              " 87: 70,\n",
              " 187: 70,\n",
              " 354: 70,\n",
              " 54: 68,\n",
              " 71: 67,\n",
              " 330: 66,\n",
              " 180: 64,\n",
              " 125: 63,\n",
              " 199: 62,\n",
              " 84: 58,\n",
              " 233: 57,\n",
              " 188: 56,\n",
              " 263: 55,\n",
              " 302: 55,\n",
              " 346: 55,\n",
              " 240: 54,\n",
              " 265: 54,\n",
              " 332: 54,\n",
              " 108: 53,\n",
              " 117: 53,\n",
              " 249: 53,\n",
              " 266: 52,\n",
              " 271: 51,\n",
              " 98: 50,\n",
              " 321: 50,\n",
              " 77: 49,\n",
              " 95: 46,\n",
              " 129: 46,\n",
              " 101: 45,\n",
              " 174: 45,\n",
              " 276: 43,\n",
              " 40: 42,\n",
              " 63: 42,\n",
              " 369: 42,\n",
              " 47: 41,\n",
              " 293: 40,\n",
              " 324: 38,\n",
              " 123: 37,\n",
              " 269: 37,\n",
              " 193: 35,\n",
              " 214: 35,\n",
              " 75: 34,\n",
              " 99: 34,\n",
              " 164: 33,\n",
              " 237: 33,\n",
              " 42: 32,\n",
              " 144: 32,\n",
              " 189: 32,\n",
              " 229: 32,\n",
              " 253: 32,\n",
              " 228: 31,\n",
              " 68: 30,\n",
              " 185: 30,\n",
              " 340: 30,\n",
              " 6: 29,\n",
              " 46: 29,\n",
              " 120: 29,\n",
              " 124: 29,\n",
              " 126: 29,\n",
              " 145: 29,\n",
              " 50: 28,\n",
              " 202: 28,\n",
              " 218: 28,\n",
              " 220: 28,\n",
              " 234: 28,\n",
              " 304: 28,\n",
              " 81: 27,\n",
              " 90: 27,\n",
              " 136: 27,\n",
              " 111: 26,\n",
              " 139: 26,\n",
              " 157: 26,\n",
              " 204: 26,\n",
              " 363: 26,\n",
              " 53: 25,\n",
              " 134: 25,\n",
              " 16: 24,\n",
              " 65: 24,\n",
              " 109: 24,\n",
              " 206: 24,\n",
              " 226: 24,\n",
              " 295: 24,\n",
              " 298: 24,\n",
              " 318: 24,\n",
              " 0: 23,\n",
              " 149: 23,\n",
              " 361: 23,\n",
              " 19: 22,\n",
              " 52: 22,\n",
              " 177: 22,\n",
              " 267: 22,\n",
              " 138: 21,\n",
              " 172: 21,\n",
              " 223: 21,\n",
              " 288: 21,\n",
              " 316: 21,\n",
              " 166: 20,\n",
              " 203: 20,\n",
              " 246: 20,\n",
              " 286: 20,\n",
              " 314: 20,\n",
              " 366: 20,\n",
              " 48: 19,\n",
              " 141: 19,\n",
              " 184: 19,\n",
              " 194: 18,\n",
              " 224: 18,\n",
              " 333: 18,\n",
              " 14: 17,\n",
              " 58: 17,\n",
              " 69: 17,\n",
              " 74: 17,\n",
              " 113: 17,\n",
              " 213: 17,\n",
              " 219: 17,\n",
              " 259: 17,\n",
              " 296: 17,\n",
              " 312: 17,\n",
              " 364: 17,\n",
              " 86: 16,\n",
              " 102: 16,\n",
              " 186: 16,\n",
              " 247: 16,\n",
              " 264: 16,\n",
              " 270: 16,\n",
              " 325: 16,\n",
              " 342: 16,\n",
              " 348: 16,\n",
              " 27: 15,\n",
              " 151: 15,\n",
              " 201: 15,\n",
              " 280: 15,\n",
              " 301: 15,\n",
              " 329: 15,\n",
              " 41: 14,\n",
              " 100: 14,\n",
              " 161: 14,\n",
              " 195: 14,\n",
              " 303: 14,\n",
              " 327: 14,\n",
              " 11: 13,\n",
              " 121: 13,\n",
              " 306: 13,\n",
              " 351: 13,\n",
              " 370: 13,\n",
              " 20: 12,\n",
              " 78: 12,\n",
              " 122: 12,\n",
              " 131: 12,\n",
              " 211: 12,\n",
              " 232: 12,\n",
              " 273: 12,\n",
              " 310: 12,\n",
              " 23: 11,\n",
              " 59: 11,\n",
              " 103: 11,\n",
              " 105: 11,\n",
              " 152: 11,\n",
              " 179: 11,\n",
              " 198: 11,\n",
              " 216: 11,\n",
              " 230: 11,\n",
              " 291: 11,\n",
              " 337: 11,\n",
              " 4: 10,\n",
              " 45: 10,\n",
              " 62: 10,\n",
              " 115: 10,\n",
              " 137: 10,\n",
              " 210: 10,\n",
              " 248: 10,\n",
              " 251: 10,\n",
              " 254: 10,\n",
              " 297: 10,\n",
              " 317: 10,\n",
              " 30: 9,\n",
              " 35: 9,\n",
              " 80: 9,\n",
              " 116: 9,\n",
              " 119: 9,\n",
              " 146: 9,\n",
              " 148: 9,\n",
              " 163: 9,\n",
              " 245: 9,\n",
              " 315: 9,\n",
              " 357: 9,\n",
              " 376: 9,\n",
              " 378: 9,\n",
              " 28: 8,\n",
              " 91: 8,\n",
              " 143: 8,\n",
              " 192: 8,\n",
              " 278: 8,\n",
              " 287: 8,\n",
              " 290: 8,\n",
              " 305: 8,\n",
              " 308: 8,\n",
              " 358: 8,\n",
              " 21: 7,\n",
              " 55: 7,\n",
              " 76: 7,\n",
              " 83: 7,\n",
              " 156: 7,\n",
              " 158: 7,\n",
              " 160: 7,\n",
              " 191: 7,\n",
              " 222: 7,\n",
              " 244: 7,\n",
              " 258: 7,\n",
              " 262: 7,\n",
              " 300: 7,\n",
              " 331: 7,\n",
              " 343: 7,\n",
              " 355: 7,\n",
              " 379: 7,\n",
              " 7: 6,\n",
              " 13: 6,\n",
              " 17: 6,\n",
              " 85: 6,\n",
              " 118: 6,\n",
              " 239: 6,\n",
              " 243: 6,\n",
              " 299: 6,\n",
              " 328: 6,\n",
              " 334: 6,\n",
              " 339: 6,\n",
              " 360: 6,\n",
              " 1: 5,\n",
              " 9: 5,\n",
              " 18: 5,\n",
              " 22: 5,\n",
              " 31: 5,\n",
              " 32: 5,\n",
              " 44: 5,\n",
              " 49: 5,\n",
              " 64: 5,\n",
              " 70: 5,\n",
              " 97: 5,\n",
              " 104: 5,\n",
              " 114: 5,\n",
              " 150: 5,\n",
              " 159: 5,\n",
              " 173: 5,\n",
              " 178: 5,\n",
              " 196: 5,\n",
              " 200: 5,\n",
              " 235: 5,\n",
              " 281: 5,\n",
              " 285: 5,\n",
              " 345: 5,\n",
              " 365: 5,\n",
              " 10: 4,\n",
              " 33: 4,\n",
              " 60: 4,\n",
              " 61: 4,\n",
              " 92: 4,\n",
              " 132: 4,\n",
              " 183: 4,\n",
              " 208: 4,\n",
              " 284: 4,\n",
              " 292: 4,\n",
              " 311: 4,\n",
              " 313: 4,\n",
              " 349: 4,\n",
              " 356: 4,\n",
              " 12: 3,\n",
              " 25: 3,\n",
              " 38: 3,\n",
              " 57: 3,\n",
              " 67: 3,\n",
              " 79: 3,\n",
              " 89: 3,\n",
              " 94: 3,\n",
              " 96: 3,\n",
              " 140: 3,\n",
              " 147: 3,\n",
              " 170: 3,\n",
              " 171: 3,\n",
              " 215: 3,\n",
              " 274: 3,\n",
              " 282: 3,\n",
              " 309: 3,\n",
              " 320: 3,\n",
              " 347: 3,\n",
              " 352: 3,\n",
              " 371: 3,\n",
              " 375: 3,\n",
              " 2: 2,\n",
              " 39: 2,\n",
              " 43: 2,\n",
              " 73: 2,\n",
              " 93: 2,\n",
              " 107: 2,\n",
              " 112: 2,\n",
              " 128: 2,\n",
              " 167: 2,\n",
              " 168: 2,\n",
              " 242: 2,\n",
              " 268: 2,\n",
              " 279: 2,\n",
              " 322: 2,\n",
              " 335: 2,\n",
              " 336: 2,\n",
              " 338: 2,\n",
              " 353: 2,\n",
              " 3: 1,\n",
              " 5: 1,\n",
              " 24: 1,\n",
              " 29: 1,\n",
              " 37: 1,\n",
              " 110: 1,\n",
              " 135: 1,\n",
              " 153: 1,\n",
              " 162: 1,\n",
              " 165: 1,\n",
              " 307: 1,\n",
              " 323: 1,\n",
              " 326: 1,\n",
              " 341: 1,\n",
              " 344: 1,\n",
              " 362: 1,\n",
              " 367: 1,\n",
              " 368: 1,\n",
              " 374: 1,\n",
              " 377: 1,\n",
              " 15: 0,\n",
              " 72: 0,\n",
              " 127: 0,\n",
              " 212: 0,\n",
              " 275: 0,\n",
              " 319: 0,\n",
              " 373: 0}"
            ]
          },
          "metadata": {},
          "execution_count": 138
        }
      ]
    },
    {
      "cell_type": "code",
      "source": [
        "y.value_counts()"
      ],
      "metadata": {
        "colab": {
          "base_uri": "https://localhost:8080/"
        },
        "id": "s4knIGbfa5x6",
        "outputId": "05cb950b-2b05-4b3e-c99e-f1e91b656aa3"
      },
      "id": "s4knIGbfa5x6",
      "execution_count": null,
      "outputs": [
        {
          "output_type": "execute_result",
          "data": {
            "text/plain": [
              "TARGET\n",
              "0.0       282686\n",
              "1.0        24825\n",
              "dtype: int64"
            ]
          },
          "metadata": {},
          "execution_count": 82
        }
      ]
    },
    {
      "cell_type": "code",
      "source": [],
      "metadata": {
        "id": "SkWVvHdra5uN"
      },
      "id": "SkWVvHdra5uN",
      "execution_count": null,
      "outputs": []
    },
    {
      "cell_type": "code",
      "source": [
        "len(data.columns)"
      ],
      "metadata": {
        "colab": {
          "base_uri": "https://localhost:8080/"
        },
        "id": "gOce2sagb28x",
        "outputId": "23ea8f3a-15ea-4fa1-a052-effee3db6517"
      },
      "id": "gOce2sagb28x",
      "execution_count": null,
      "outputs": [
        {
          "output_type": "execute_result",
          "data": {
            "text/plain": [
              "122"
            ]
          },
          "metadata": {},
          "execution_count": 58
        }
      ]
    },
    {
      "cell_type": "code",
      "source": [
        "data_int = data[data.select_dtypes('int').columns]\n",
        "data_float = data[data.select_dtypes('float').columns]\n",
        "data_obj = data[data.select_dtypes('object').columns]"
      ],
      "metadata": {
        "id": "RoGlbiH7cRuf"
      },
      "id": "RoGlbiH7cRuf",
      "execution_count": null,
      "outputs": []
    },
    {
      "cell_type": "code",
      "source": [
        "len(data.select_dtypes('object').columns) + len(data.select_dtypes('int').columns) + len(data.select_dtypes('float').columns)"
      ],
      "metadata": {
        "colab": {
          "base_uri": "https://localhost:8080/"
        },
        "id": "S0ObRfGGbdGS",
        "outputId": "6473e9d5-5b48-4cfb-fa6d-69da4fb068ac"
      },
      "id": "S0ObRfGGbdGS",
      "execution_count": null,
      "outputs": [
        {
          "output_type": "execute_result",
          "data": {
            "text/plain": [
              "122"
            ]
          },
          "metadata": {},
          "execution_count": 44
        }
      ]
    },
    {
      "cell_type": "code",
      "execution_count": null,
      "id": "9ca14d84",
      "metadata": {
        "colab": {
          "base_uri": "https://localhost:8080/"
        },
        "id": "9ca14d84",
        "outputId": "4084e07b-d514-42d7-f735-23cb2f019184"
      },
      "outputs": [
        {
          "output_type": "stream",
          "name": "stderr",
          "text": [
            "/usr/local/lib/python3.7/dist-packages/ipykernel_launcher.py:3: SettingWithCopyWarning: \n",
            "A value is trying to be set on a copy of a slice from a DataFrame.\n",
            "Try using .loc[row_indexer,col_indexer] = value instead\n",
            "\n",
            "See the caveats in the documentation: https://pandas.pydata.org/pandas-docs/stable/user_guide/indexing.html#returning-a-view-versus-a-copy\n",
            "  This is separate from the ipykernel package so we can avoid doing imports until\n"
          ]
        }
      ],
      "source": [
        "le = LabelEncoder()\n",
        "for col in data_obj.columns:\n",
        "    data_obj[col] = le.fit_transform(data_obj[col].astype(str))    "
      ]
    },
    {
      "cell_type": "code",
      "source": [
        "def colors(value):\n",
        "    if value > 50 and value < 100:\n",
        "        color = 'red'\n",
        "    elif value > 154000 and value < 250000:\n",
        "        color = 'red'\n",
        "    elif value == 1 :\n",
        "        color = 'blue'\n",
        "    else:\n",
        "        color = 'green'\n",
        "    return 'color: %s' % color\n",
        "\n",
        "def missing(df):\n",
        "    total = df.isnull().sum().sort_values(ascending = False)\n",
        "    total = total[total>0]\n",
        "    percent = df.isnull().sum().sort_values(ascending = False)/len(df)*100\n",
        "    percent = percent[percent>0]\n",
        "    return pd.concat([total, percent], axis=1, keys=['Total','Percentage']).style.applymap(colors)\n",
        "missing(data_obj.select_dtypes('object'))"
      ],
      "metadata": {
        "colab": {
          "base_uri": "https://localhost:8080/",
          "height": 49
        },
        "id": "tx4IKhBmxR0x",
        "outputId": "d84d8a63-8739-444e-e74e-33c3b90d0f38"
      },
      "id": "tx4IKhBmxR0x",
      "execution_count": null,
      "outputs": [
        {
          "output_type": "execute_result",
          "data": {
            "text/plain": [
              "<pandas.io.formats.style.Styler at 0x7f506d42e0d0>"
            ],
            "text/html": [
              "<style type=\"text/css\">\n",
              "</style>\n",
              "<table id=\"T_41e6d_\" class=\"dataframe\">\n",
              "  <thead>\n",
              "    <tr>\n",
              "      <th class=\"blank level0\" >&nbsp;</th>\n",
              "      <th class=\"col_heading level0 col0\" >Total</th>\n",
              "      <th class=\"col_heading level0 col1\" >Percentage</th>\n",
              "    </tr>\n",
              "  </thead>\n",
              "  <tbody>\n",
              "  </tbody>\n",
              "</table>\n"
            ]
          },
          "metadata": {},
          "execution_count": 65
        }
      ]
    },
    {
      "cell_type": "code",
      "source": [
        "data_obj.head()"
      ],
      "metadata": {
        "colab": {
          "base_uri": "https://localhost:8080/",
          "height": 270
        },
        "id": "xiiGN5hoczhG",
        "outputId": "744c2288-5952-48ab-e2c8-c94ff11a1e3c"
      },
      "id": "xiiGN5hoczhG",
      "execution_count": null,
      "outputs": [
        {
          "output_type": "execute_result",
          "data": {
            "text/plain": [
              "   NAME_CONTRACT_TYPE  CODE_GENDER  FLAG_OWN_CAR  FLAG_OWN_REALTY  \\\n",
              "0                   0            1             0                1   \n",
              "1                   0            0             0                0   \n",
              "2                   1            1             1                1   \n",
              "3                   0            0             0                1   \n",
              "4                   0            1             0                1   \n",
              "\n",
              "   NAME_TYPE_SUITE  NAME_INCOME_TYPE  NAME_EDUCATION_TYPE  NAME_FAMILY_STATUS  \\\n",
              "0                6                 7                    4                   3   \n",
              "1                1                 4                    1                   1   \n",
              "2                6                 7                    4                   3   \n",
              "3                6                 7                    4                   0   \n",
              "4                6                 7                    4                   3   \n",
              "\n",
              "   NAME_HOUSING_TYPE  OCCUPATION_TYPE  WEEKDAY_APPR_PROCESS_START  \\\n",
              "0                  1                8                           6   \n",
              "1                  1                3                           1   \n",
              "2                  1                8                           1   \n",
              "3                  1                8                           6   \n",
              "4                  1                3                           4   \n",
              "\n",
              "   ORGANIZATION_TYPE  FONDKAPREMONT_MODE  HOUSETYPE_MODE  WALLSMATERIAL_MODE  \\\n",
              "0                  5                   3               0                   5   \n",
              "1                 39                   3               0                   0   \n",
              "2                 11                   0               1                   7   \n",
              "3                  5                   0               1                   7   \n",
              "4                 37                   0               1                   7   \n",
              "\n",
              "   EMERGENCYSTATE_MODE  \n",
              "0                    0  \n",
              "1                    0  \n",
              "2                    2  \n",
              "3                    2  \n",
              "4                    2  "
            ],
            "text/html": [
              "\n",
              "  <div id=\"df-4eda30d9-38f3-4993-847e-7305488b12c2\">\n",
              "    <div class=\"colab-df-container\">\n",
              "      <div>\n",
              "<style scoped>\n",
              "    .dataframe tbody tr th:only-of-type {\n",
              "        vertical-align: middle;\n",
              "    }\n",
              "\n",
              "    .dataframe tbody tr th {\n",
              "        vertical-align: top;\n",
              "    }\n",
              "\n",
              "    .dataframe thead th {\n",
              "        text-align: right;\n",
              "    }\n",
              "</style>\n",
              "<table border=\"1\" class=\"dataframe\">\n",
              "  <thead>\n",
              "    <tr style=\"text-align: right;\">\n",
              "      <th></th>\n",
              "      <th>NAME_CONTRACT_TYPE</th>\n",
              "      <th>CODE_GENDER</th>\n",
              "      <th>FLAG_OWN_CAR</th>\n",
              "      <th>FLAG_OWN_REALTY</th>\n",
              "      <th>NAME_TYPE_SUITE</th>\n",
              "      <th>NAME_INCOME_TYPE</th>\n",
              "      <th>NAME_EDUCATION_TYPE</th>\n",
              "      <th>NAME_FAMILY_STATUS</th>\n",
              "      <th>NAME_HOUSING_TYPE</th>\n",
              "      <th>OCCUPATION_TYPE</th>\n",
              "      <th>WEEKDAY_APPR_PROCESS_START</th>\n",
              "      <th>ORGANIZATION_TYPE</th>\n",
              "      <th>FONDKAPREMONT_MODE</th>\n",
              "      <th>HOUSETYPE_MODE</th>\n",
              "      <th>WALLSMATERIAL_MODE</th>\n",
              "      <th>EMERGENCYSTATE_MODE</th>\n",
              "    </tr>\n",
              "  </thead>\n",
              "  <tbody>\n",
              "    <tr>\n",
              "      <th>0</th>\n",
              "      <td>0</td>\n",
              "      <td>1</td>\n",
              "      <td>0</td>\n",
              "      <td>1</td>\n",
              "      <td>6</td>\n",
              "      <td>7</td>\n",
              "      <td>4</td>\n",
              "      <td>3</td>\n",
              "      <td>1</td>\n",
              "      <td>8</td>\n",
              "      <td>6</td>\n",
              "      <td>5</td>\n",
              "      <td>3</td>\n",
              "      <td>0</td>\n",
              "      <td>5</td>\n",
              "      <td>0</td>\n",
              "    </tr>\n",
              "    <tr>\n",
              "      <th>1</th>\n",
              "      <td>0</td>\n",
              "      <td>0</td>\n",
              "      <td>0</td>\n",
              "      <td>0</td>\n",
              "      <td>1</td>\n",
              "      <td>4</td>\n",
              "      <td>1</td>\n",
              "      <td>1</td>\n",
              "      <td>1</td>\n",
              "      <td>3</td>\n",
              "      <td>1</td>\n",
              "      <td>39</td>\n",
              "      <td>3</td>\n",
              "      <td>0</td>\n",
              "      <td>0</td>\n",
              "      <td>0</td>\n",
              "    </tr>\n",
              "    <tr>\n",
              "      <th>2</th>\n",
              "      <td>1</td>\n",
              "      <td>1</td>\n",
              "      <td>1</td>\n",
              "      <td>1</td>\n",
              "      <td>6</td>\n",
              "      <td>7</td>\n",
              "      <td>4</td>\n",
              "      <td>3</td>\n",
              "      <td>1</td>\n",
              "      <td>8</td>\n",
              "      <td>1</td>\n",
              "      <td>11</td>\n",
              "      <td>0</td>\n",
              "      <td>1</td>\n",
              "      <td>7</td>\n",
              "      <td>2</td>\n",
              "    </tr>\n",
              "    <tr>\n",
              "      <th>3</th>\n",
              "      <td>0</td>\n",
              "      <td>0</td>\n",
              "      <td>0</td>\n",
              "      <td>1</td>\n",
              "      <td>6</td>\n",
              "      <td>7</td>\n",
              "      <td>4</td>\n",
              "      <td>0</td>\n",
              "      <td>1</td>\n",
              "      <td>8</td>\n",
              "      <td>6</td>\n",
              "      <td>5</td>\n",
              "      <td>0</td>\n",
              "      <td>1</td>\n",
              "      <td>7</td>\n",
              "      <td>2</td>\n",
              "    </tr>\n",
              "    <tr>\n",
              "      <th>4</th>\n",
              "      <td>0</td>\n",
              "      <td>1</td>\n",
              "      <td>0</td>\n",
              "      <td>1</td>\n",
              "      <td>6</td>\n",
              "      <td>7</td>\n",
              "      <td>4</td>\n",
              "      <td>3</td>\n",
              "      <td>1</td>\n",
              "      <td>3</td>\n",
              "      <td>4</td>\n",
              "      <td>37</td>\n",
              "      <td>0</td>\n",
              "      <td>1</td>\n",
              "      <td>7</td>\n",
              "      <td>2</td>\n",
              "    </tr>\n",
              "  </tbody>\n",
              "</table>\n",
              "</div>\n",
              "      <button class=\"colab-df-convert\" onclick=\"convertToInteractive('df-4eda30d9-38f3-4993-847e-7305488b12c2')\"\n",
              "              title=\"Convert this dataframe to an interactive table.\"\n",
              "              style=\"display:none;\">\n",
              "        \n",
              "  <svg xmlns=\"http://www.w3.org/2000/svg\" height=\"24px\"viewBox=\"0 0 24 24\"\n",
              "       width=\"24px\">\n",
              "    <path d=\"M0 0h24v24H0V0z\" fill=\"none\"/>\n",
              "    <path d=\"M18.56 5.44l.94 2.06.94-2.06 2.06-.94-2.06-.94-.94-2.06-.94 2.06-2.06.94zm-11 1L8.5 8.5l.94-2.06 2.06-.94-2.06-.94L8.5 2.5l-.94 2.06-2.06.94zm10 10l.94 2.06.94-2.06 2.06-.94-2.06-.94-.94-2.06-.94 2.06-2.06.94z\"/><path d=\"M17.41 7.96l-1.37-1.37c-.4-.4-.92-.59-1.43-.59-.52 0-1.04.2-1.43.59L10.3 9.45l-7.72 7.72c-.78.78-.78 2.05 0 2.83L4 21.41c.39.39.9.59 1.41.59.51 0 1.02-.2 1.41-.59l7.78-7.78 2.81-2.81c.8-.78.8-2.07 0-2.86zM5.41 20L4 18.59l7.72-7.72 1.47 1.35L5.41 20z\"/>\n",
              "  </svg>\n",
              "      </button>\n",
              "      \n",
              "  <style>\n",
              "    .colab-df-container {\n",
              "      display:flex;\n",
              "      flex-wrap:wrap;\n",
              "      gap: 12px;\n",
              "    }\n",
              "\n",
              "    .colab-df-convert {\n",
              "      background-color: #E8F0FE;\n",
              "      border: none;\n",
              "      border-radius: 50%;\n",
              "      cursor: pointer;\n",
              "      display: none;\n",
              "      fill: #1967D2;\n",
              "      height: 32px;\n",
              "      padding: 0 0 0 0;\n",
              "      width: 32px;\n",
              "    }\n",
              "\n",
              "    .colab-df-convert:hover {\n",
              "      background-color: #E2EBFA;\n",
              "      box-shadow: 0px 1px 2px rgba(60, 64, 67, 0.3), 0px 1px 3px 1px rgba(60, 64, 67, 0.15);\n",
              "      fill: #174EA6;\n",
              "    }\n",
              "\n",
              "    [theme=dark] .colab-df-convert {\n",
              "      background-color: #3B4455;\n",
              "      fill: #D2E3FC;\n",
              "    }\n",
              "\n",
              "    [theme=dark] .colab-df-convert:hover {\n",
              "      background-color: #434B5C;\n",
              "      box-shadow: 0px 1px 3px 1px rgba(0, 0, 0, 0.15);\n",
              "      filter: drop-shadow(0px 1px 2px rgba(0, 0, 0, 0.3));\n",
              "      fill: #FFFFFF;\n",
              "    }\n",
              "  </style>\n",
              "\n",
              "      <script>\n",
              "        const buttonEl =\n",
              "          document.querySelector('#df-4eda30d9-38f3-4993-847e-7305488b12c2 button.colab-df-convert');\n",
              "        buttonEl.style.display =\n",
              "          google.colab.kernel.accessAllowed ? 'block' : 'none';\n",
              "\n",
              "        async function convertToInteractive(key) {\n",
              "          const element = document.querySelector('#df-4eda30d9-38f3-4993-847e-7305488b12c2');\n",
              "          const dataTable =\n",
              "            await google.colab.kernel.invokeFunction('convertToInteractive',\n",
              "                                                     [key], {});\n",
              "          if (!dataTable) return;\n",
              "\n",
              "          const docLinkHtml = 'Like what you see? Visit the ' +\n",
              "            '<a target=\"_blank\" href=https://colab.research.google.com/notebooks/data_table.ipynb>data table notebook</a>'\n",
              "            + ' to learn more about interactive tables.';\n",
              "          element.innerHTML = '';\n",
              "          dataTable['output_type'] = 'display_data';\n",
              "          await google.colab.output.renderOutput(dataTable, element);\n",
              "          const docLink = document.createElement('div');\n",
              "          docLink.innerHTML = docLinkHtml;\n",
              "          element.appendChild(docLink);\n",
              "        }\n",
              "      </script>\n",
              "    </div>\n",
              "  </div>\n",
              "  "
            ]
          },
          "metadata": {},
          "execution_count": 52
        }
      ]
    },
    {
      "cell_type": "code",
      "source": [
        "data_float.isnull().sum()"
      ],
      "metadata": {
        "colab": {
          "base_uri": "https://localhost:8080/"
        },
        "id": "ALdZYz3cc4V-",
        "outputId": "51a6d04f-ab62-4eaf-992c-bbfaecfd0902"
      },
      "id": "ALdZYz3cc4V-",
      "execution_count": null,
      "outputs": [
        {
          "output_type": "execute_result",
          "data": {
            "text/plain": [
              "AMT_INCOME_TOTAL                  0\n",
              "AMT_CREDIT                        0\n",
              "AMT_ANNUITY                      12\n",
              "AMT_GOODS_PRICE                 278\n",
              "REGION_POPULATION_RELATIVE        0\n",
              "                              ...  \n",
              "AMT_REQ_CREDIT_BUREAU_DAY     41519\n",
              "AMT_REQ_CREDIT_BUREAU_WEEK    41519\n",
              "AMT_REQ_CREDIT_BUREAU_MON     41519\n",
              "AMT_REQ_CREDIT_BUREAU_QRT     41519\n",
              "AMT_REQ_CREDIT_BUREAU_YEAR    41519\n",
              "Length: 65, dtype: int64"
            ]
          },
          "metadata": {},
          "execution_count": 56
        }
      ]
    },
    {
      "cell_type": "code",
      "source": [],
      "metadata": {
        "id": "epaas34Jc4Sp"
      },
      "id": "epaas34Jc4Sp",
      "execution_count": null,
      "outputs": []
    },
    {
      "cell_type": "code",
      "source": [],
      "metadata": {
        "id": "UzGqyHvpc4Px"
      },
      "id": "UzGqyHvpc4Px",
      "execution_count": null,
      "outputs": []
    },
    {
      "cell_type": "code",
      "source": [],
      "metadata": {
        "id": "1gKpvFvHc4M0"
      },
      "id": "1gKpvFvHc4M0",
      "execution_count": null,
      "outputs": []
    },
    {
      "cell_type": "code",
      "source": [],
      "metadata": {
        "id": "q12TDjx1c4J0"
      },
      "id": "q12TDjx1c4J0",
      "execution_count": null,
      "outputs": []
    },
    {
      "cell_type": "code",
      "source": [],
      "metadata": {
        "id": "zu4Wwj7Cc4G6"
      },
      "id": "zu4Wwj7Cc4G6",
      "execution_count": null,
      "outputs": []
    },
    {
      "cell_type": "code",
      "source": [],
      "metadata": {
        "id": "UzgSLkSXc4Ei"
      },
      "id": "UzgSLkSXc4Ei",
      "execution_count": null,
      "outputs": []
    },
    {
      "cell_type": "code",
      "source": [],
      "metadata": {
        "id": "3ZH7sfLEc4BI"
      },
      "id": "3ZH7sfLEc4BI",
      "execution_count": null,
      "outputs": []
    },
    {
      "cell_type": "code",
      "source": [],
      "metadata": {
        "id": "Tsvz5ZCWc39_"
      },
      "id": "Tsvz5ZCWc39_",
      "execution_count": null,
      "outputs": []
    },
    {
      "cell_type": "code",
      "source": [],
      "metadata": {
        "id": "R8N2fxCvc36y"
      },
      "id": "R8N2fxCvc36y",
      "execution_count": null,
      "outputs": []
    },
    {
      "cell_type": "code",
      "execution_count": null,
      "id": "c3edfba6",
      "metadata": {
        "id": "c3edfba6"
      },
      "outputs": [],
      "source": [
        "_data = data.copy()"
      ]
    },
    {
      "cell_type": "code",
      "execution_count": null,
      "id": "1ab405d2",
      "metadata": {
        "id": "1ab405d2",
        "outputId": "ae06744e-2132-48de-d15c-5c642ddb3de4"
      },
      "outputs": [
        {
          "data": {
            "text/plain": [
              "286.2270965576172"
            ]
          },
          "execution_count": 17,
          "metadata": {},
          "output_type": "execute_result"
        }
      ],
      "source": [
        "_data.memory_usage().sum() / 1024**2"
      ]
    },
    {
      "cell_type": "code",
      "execution_count": null,
      "id": "2b6bbe44",
      "metadata": {
        "id": "2b6bbe44"
      },
      "outputs": [],
      "source": [
        "for col in _data.columns:\n",
        "    _type = _data[col].dtype\n",
        "    if _type != object:\n",
        "        _min, _max = _data[col].min(), _data[col].max()\n",
        "        if str(_type)[:3] == 'int':\n",
        "            if _min > np.iinfo(np.int8).min and _max < np.iinfo(np.int8).max:_data[col] = _data[col].astype(np.int8)\n",
        "            elif _min > np.iinfo(np.int16).min and _max < np.iinfo(np.int16).max:_data[col] = _data[col].astype(np.int16)\n",
        "            elif _min > np.iinfo(np.int32).min and _max < np.iinfo(np.int32).max:_data[col] = _data[col].astype(np.int32)\n",
        "            elif _min > np.iinfo(np.int64).min and _max < np.iinfo(np.int64).max:_data[col] = _data[col].astype(np.int64)\n",
        "        else:\n",
        "            if _min > np.finfo(np.float16).min and _max < np.finfo(np.float16).max:_data[col] = _data[col].astype(np.float16)\n",
        "            elif _min > np.finfo(np.float32).min and _max < np.finfo(np.float32).max:_data[col] = _data[col].astype(np.float32)\n",
        "            else: _data[col] = _data[col].astype(np.float64)\n",
        "    else: _data[col] = _data[col].astype('object')"
      ]
    },
    {
      "cell_type": "code",
      "execution_count": null,
      "id": "c584a34b",
      "metadata": {
        "id": "c584a34b",
        "outputId": "5e114685-e5f1-4e61-c93c-3e7dc8e276f2"
      },
      "outputs": [
        {
          "data": {
            "text/plain": [
              "92.37870502471924"
            ]
          },
          "execution_count": 19,
          "metadata": {},
          "output_type": "execute_result"
        }
      ],
      "source": [
        "_data.memory_usage().sum() / 1024**2"
      ]
    },
    {
      "cell_type": "code",
      "execution_count": null,
      "id": "0112023c",
      "metadata": {
        "colab": {
          "base_uri": "https://localhost:8080/"
        },
        "id": "0112023c",
        "outputId": "63dd939f-580c-4a40-ecbf-58d969cf12da"
      },
      "outputs": [
        {
          "output_type": "execute_result",
          "data": {
            "text/plain": [
              "Index(['NAME_CONTRACT_TYPE', 'CODE_GENDER', 'FLAG_OWN_CAR', 'FLAG_OWN_REALTY',\n",
              "       'NAME_TYPE_SUITE', 'NAME_INCOME_TYPE', 'NAME_EDUCATION_TYPE',\n",
              "       'NAME_FAMILY_STATUS', 'NAME_HOUSING_TYPE', 'OCCUPATION_TYPE',\n",
              "       'WEEKDAY_APPR_PROCESS_START', 'ORGANIZATION_TYPE', 'FONDKAPREMONT_MODE',\n",
              "       'HOUSETYPE_MODE', 'WALLSMATERIAL_MODE', 'EMERGENCYSTATE_MODE'],\n",
              "      dtype='object')"
            ]
          },
          "metadata": {},
          "execution_count": 26
        }
      ],
      "source": [
        "cat_col = _data.select_dtypes('object').columns\n",
        "cat_col"
      ]
    },
    {
      "cell_type": "code",
      "execution_count": null,
      "id": "dd225c82",
      "metadata": {
        "id": "dd225c82"
      },
      "outputs": [],
      "source": [
        "le = LabelEncoder()\n",
        "for col in cat_col:\n",
        "    _data[col] = le.fit_transform(_data[col].astype(str))"
      ]
    },
    {
      "cell_type": "code",
      "execution_count": null,
      "id": "cba592f3",
      "metadata": {
        "colab": {
          "base_uri": "https://localhost:8080/",
          "height": 238
        },
        "id": "cba592f3",
        "outputId": "def85e5a-316e-45b2-815e-84d837773f68"
      },
      "outputs": [
        {
          "output_type": "execute_result",
          "data": {
            "text/plain": [
              "<pandas.io.formats.style.Styler at 0x7f506d40afd0>"
            ],
            "text/html": [
              "<style type=\"text/css\">\n",
              "#T_f44d1_row0_col0, #T_f44d1_row0_col1, #T_f44d1_row1_col0, #T_f44d1_row1_col1, #T_f44d1_row2_col0, #T_f44d1_row2_col1 {\n",
              "  color: red;\n",
              "}\n",
              "#T_f44d1_row3_col0, #T_f44d1_row3_col1, #T_f44d1_row4_col0, #T_f44d1_row4_col1, #T_f44d1_row5_col0, #T_f44d1_row5_col1 {\n",
              "  color: green;\n",
              "}\n",
              "</style>\n",
              "<table id=\"T_f44d1_\" class=\"dataframe\">\n",
              "  <thead>\n",
              "    <tr>\n",
              "      <th class=\"blank level0\" >&nbsp;</th>\n",
              "      <th class=\"col_heading level0 col0\" >Total</th>\n",
              "      <th class=\"col_heading level0 col1\" >Percentage</th>\n",
              "    </tr>\n",
              "  </thead>\n",
              "  <tbody>\n",
              "    <tr>\n",
              "      <th id=\"T_f44d1_level0_row0\" class=\"row_heading level0 row0\" >FONDKAPREMONT_MODE</th>\n",
              "      <td id=\"T_f44d1_row0_col0\" class=\"data row0 col0\" >210295</td>\n",
              "      <td id=\"T_f44d1_row0_col1\" class=\"data row0 col1\" >68.386172</td>\n",
              "    </tr>\n",
              "    <tr>\n",
              "      <th id=\"T_f44d1_level0_row1\" class=\"row_heading level0 row1\" >WALLSMATERIAL_MODE</th>\n",
              "      <td id=\"T_f44d1_row1_col0\" class=\"data row1 col0\" >156341</td>\n",
              "      <td id=\"T_f44d1_row1_col1\" class=\"data row1 col1\" >50.840783</td>\n",
              "    </tr>\n",
              "    <tr>\n",
              "      <th id=\"T_f44d1_level0_row2\" class=\"row_heading level0 row2\" >HOUSETYPE_MODE</th>\n",
              "      <td id=\"T_f44d1_row2_col0\" class=\"data row2 col0\" >154297</td>\n",
              "      <td id=\"T_f44d1_row2_col1\" class=\"data row2 col1\" >50.176091</td>\n",
              "    </tr>\n",
              "    <tr>\n",
              "      <th id=\"T_f44d1_level0_row3\" class=\"row_heading level0 row3\" >EMERGENCYSTATE_MODE</th>\n",
              "      <td id=\"T_f44d1_row3_col0\" class=\"data row3 col0\" >145755</td>\n",
              "      <td id=\"T_f44d1_row3_col1\" class=\"data row3 col1\" >47.398304</td>\n",
              "    </tr>\n",
              "    <tr>\n",
              "      <th id=\"T_f44d1_level0_row4\" class=\"row_heading level0 row4\" >OCCUPATION_TYPE</th>\n",
              "      <td id=\"T_f44d1_row4_col0\" class=\"data row4 col0\" >96391</td>\n",
              "      <td id=\"T_f44d1_row4_col1\" class=\"data row4 col1\" >31.345545</td>\n",
              "    </tr>\n",
              "    <tr>\n",
              "      <th id=\"T_f44d1_level0_row5\" class=\"row_heading level0 row5\" >NAME_TYPE_SUITE</th>\n",
              "      <td id=\"T_f44d1_row5_col0\" class=\"data row5 col0\" >1292</td>\n",
              "      <td id=\"T_f44d1_row5_col1\" class=\"data row5 col1\" >0.420148</td>\n",
              "    </tr>\n",
              "  </tbody>\n",
              "</table>\n"
            ]
          },
          "metadata": {},
          "execution_count": 28
        }
      ],
      "source": [
        "def colors(value):\n",
        "    if value > 50 and value < 100:\n",
        "        color = 'red'\n",
        "    elif value > 154000 and value < 250000:\n",
        "        color = 'red'\n",
        "    elif value == 1 :\n",
        "        color = 'blue'\n",
        "    else:\n",
        "        color = 'green'\n",
        "    return 'color: %s' % color\n",
        "\n",
        "def missing(df):\n",
        "    total = df.isnull().sum().sort_values(ascending = False)\n",
        "    total = total[total>0]\n",
        "    percent = df.isnull().sum().sort_values(ascending = False)/len(df)*100\n",
        "    percent = percent[percent>0]\n",
        "    return pd.concat([total, percent], axis=1, keys=['Total','Percentage']).style.applymap(colors)\n",
        "missing(data.select_dtypes('object'))"
      ]
    },
    {
      "cell_type": "code",
      "execution_count": null,
      "id": "a49d3ffd",
      "metadata": {
        "colab": {
          "base_uri": "https://localhost:8080/",
          "height": 49
        },
        "id": "a49d3ffd",
        "outputId": "59df00c0-e431-4494-cd83-da243a720ab1"
      },
      "outputs": [
        {
          "output_type": "execute_result",
          "data": {
            "text/plain": [
              "<pandas.io.formats.style.Styler at 0x7f506d3788d0>"
            ],
            "text/html": [
              "<style type=\"text/css\">\n",
              "</style>\n",
              "<table id=\"T_1ff30_\" class=\"dataframe\">\n",
              "  <thead>\n",
              "    <tr>\n",
              "      <th class=\"blank level0\" >&nbsp;</th>\n",
              "      <th class=\"col_heading level0 col0\" >Total</th>\n",
              "      <th class=\"col_heading level0 col1\" >Percentage</th>\n",
              "    </tr>\n",
              "  </thead>\n",
              "  <tbody>\n",
              "  </tbody>\n",
              "</table>\n"
            ]
          },
          "metadata": {},
          "execution_count": 29
        }
      ],
      "source": [
        "for c in data.select_dtypes('object').columns[data.select_dtypes('object').isnull().any()]:\n",
        "    data[c] = data[c].fillna(data[c].mode()[0])\n",
        "missing(data.select_dtypes('object'))"
      ]
    },
    {
      "cell_type": "code",
      "execution_count": null,
      "id": "86dca9e3",
      "metadata": {
        "colab": {
          "base_uri": "https://localhost:8080/",
          "height": 256
        },
        "id": "86dca9e3",
        "outputId": "3a286d3b-1bf9-4136-d417-ab322dfccc1e"
      },
      "outputs": [
        {
          "output_type": "execute_result",
          "data": {
            "text/plain": [
              "       NAME_CONTRACT_TYPE CODE_GENDER FLAG_OWN_CAR FLAG_OWN_REALTY  \\\n",
              "count              307511      307511       307511          307511   \n",
              "unique                  2           3            2               2   \n",
              "top            Cash loans           F            N               Y   \n",
              "freq               278232      202448       202924          213312   \n",
              "\n",
              "       NAME_TYPE_SUITE NAME_INCOME_TYPE            NAME_EDUCATION_TYPE  \\\n",
              "count           307511           307511                         307511   \n",
              "unique               7                8                              5   \n",
              "top      Unaccompanied          Working  Secondary / secondary special   \n",
              "freq            249818           158774                         218391   \n",
              "\n",
              "       NAME_FAMILY_STATUS  NAME_HOUSING_TYPE OCCUPATION_TYPE  \\\n",
              "count              307511             307511          307511   \n",
              "unique                  6                  6              18   \n",
              "top               Married  House / apartment        Laborers   \n",
              "freq               196432             272868          151577   \n",
              "\n",
              "       WEEKDAY_APPR_PROCESS_START       ORGANIZATION_TYPE FONDKAPREMONT_MODE  \\\n",
              "count                      307511                  307511             307511   \n",
              "unique                          7                      58                  4   \n",
              "top                       TUESDAY  Business Entity Type 3   reg oper account   \n",
              "freq                        53901                   67992             284125   \n",
              "\n",
              "        HOUSETYPE_MODE WALLSMATERIAL_MODE EMERGENCYSTATE_MODE  \n",
              "count           307511             307511              307511  \n",
              "unique               3                  7                   2  \n",
              "top     block of flats              Panel                  No  \n",
              "freq            304800             222381              305183  "
            ],
            "text/html": [
              "\n",
              "  <div id=\"df-5558fb8d-7f9f-4a6c-87a1-101e46b71a9d\">\n",
              "    <div class=\"colab-df-container\">\n",
              "      <div>\n",
              "<style scoped>\n",
              "    .dataframe tbody tr th:only-of-type {\n",
              "        vertical-align: middle;\n",
              "    }\n",
              "\n",
              "    .dataframe tbody tr th {\n",
              "        vertical-align: top;\n",
              "    }\n",
              "\n",
              "    .dataframe thead th {\n",
              "        text-align: right;\n",
              "    }\n",
              "</style>\n",
              "<table border=\"1\" class=\"dataframe\">\n",
              "  <thead>\n",
              "    <tr style=\"text-align: right;\">\n",
              "      <th></th>\n",
              "      <th>NAME_CONTRACT_TYPE</th>\n",
              "      <th>CODE_GENDER</th>\n",
              "      <th>FLAG_OWN_CAR</th>\n",
              "      <th>FLAG_OWN_REALTY</th>\n",
              "      <th>NAME_TYPE_SUITE</th>\n",
              "      <th>NAME_INCOME_TYPE</th>\n",
              "      <th>NAME_EDUCATION_TYPE</th>\n",
              "      <th>NAME_FAMILY_STATUS</th>\n",
              "      <th>NAME_HOUSING_TYPE</th>\n",
              "      <th>OCCUPATION_TYPE</th>\n",
              "      <th>WEEKDAY_APPR_PROCESS_START</th>\n",
              "      <th>ORGANIZATION_TYPE</th>\n",
              "      <th>FONDKAPREMONT_MODE</th>\n",
              "      <th>HOUSETYPE_MODE</th>\n",
              "      <th>WALLSMATERIAL_MODE</th>\n",
              "      <th>EMERGENCYSTATE_MODE</th>\n",
              "    </tr>\n",
              "  </thead>\n",
              "  <tbody>\n",
              "    <tr>\n",
              "      <th>count</th>\n",
              "      <td>307511</td>\n",
              "      <td>307511</td>\n",
              "      <td>307511</td>\n",
              "      <td>307511</td>\n",
              "      <td>307511</td>\n",
              "      <td>307511</td>\n",
              "      <td>307511</td>\n",
              "      <td>307511</td>\n",
              "      <td>307511</td>\n",
              "      <td>307511</td>\n",
              "      <td>307511</td>\n",
              "      <td>307511</td>\n",
              "      <td>307511</td>\n",
              "      <td>307511</td>\n",
              "      <td>307511</td>\n",
              "      <td>307511</td>\n",
              "    </tr>\n",
              "    <tr>\n",
              "      <th>unique</th>\n",
              "      <td>2</td>\n",
              "      <td>3</td>\n",
              "      <td>2</td>\n",
              "      <td>2</td>\n",
              "      <td>7</td>\n",
              "      <td>8</td>\n",
              "      <td>5</td>\n",
              "      <td>6</td>\n",
              "      <td>6</td>\n",
              "      <td>18</td>\n",
              "      <td>7</td>\n",
              "      <td>58</td>\n",
              "      <td>4</td>\n",
              "      <td>3</td>\n",
              "      <td>7</td>\n",
              "      <td>2</td>\n",
              "    </tr>\n",
              "    <tr>\n",
              "      <th>top</th>\n",
              "      <td>Cash loans</td>\n",
              "      <td>F</td>\n",
              "      <td>N</td>\n",
              "      <td>Y</td>\n",
              "      <td>Unaccompanied</td>\n",
              "      <td>Working</td>\n",
              "      <td>Secondary / secondary special</td>\n",
              "      <td>Married</td>\n",
              "      <td>House / apartment</td>\n",
              "      <td>Laborers</td>\n",
              "      <td>TUESDAY</td>\n",
              "      <td>Business Entity Type 3</td>\n",
              "      <td>reg oper account</td>\n",
              "      <td>block of flats</td>\n",
              "      <td>Panel</td>\n",
              "      <td>No</td>\n",
              "    </tr>\n",
              "    <tr>\n",
              "      <th>freq</th>\n",
              "      <td>278232</td>\n",
              "      <td>202448</td>\n",
              "      <td>202924</td>\n",
              "      <td>213312</td>\n",
              "      <td>249818</td>\n",
              "      <td>158774</td>\n",
              "      <td>218391</td>\n",
              "      <td>196432</td>\n",
              "      <td>272868</td>\n",
              "      <td>151577</td>\n",
              "      <td>53901</td>\n",
              "      <td>67992</td>\n",
              "      <td>284125</td>\n",
              "      <td>304800</td>\n",
              "      <td>222381</td>\n",
              "      <td>305183</td>\n",
              "    </tr>\n",
              "  </tbody>\n",
              "</table>\n",
              "</div>\n",
              "      <button class=\"colab-df-convert\" onclick=\"convertToInteractive('df-5558fb8d-7f9f-4a6c-87a1-101e46b71a9d')\"\n",
              "              title=\"Convert this dataframe to an interactive table.\"\n",
              "              style=\"display:none;\">\n",
              "        \n",
              "  <svg xmlns=\"http://www.w3.org/2000/svg\" height=\"24px\"viewBox=\"0 0 24 24\"\n",
              "       width=\"24px\">\n",
              "    <path d=\"M0 0h24v24H0V0z\" fill=\"none\"/>\n",
              "    <path d=\"M18.56 5.44l.94 2.06.94-2.06 2.06-.94-2.06-.94-.94-2.06-.94 2.06-2.06.94zm-11 1L8.5 8.5l.94-2.06 2.06-.94-2.06-.94L8.5 2.5l-.94 2.06-2.06.94zm10 10l.94 2.06.94-2.06 2.06-.94-2.06-.94-.94-2.06-.94 2.06-2.06.94z\"/><path d=\"M17.41 7.96l-1.37-1.37c-.4-.4-.92-.59-1.43-.59-.52 0-1.04.2-1.43.59L10.3 9.45l-7.72 7.72c-.78.78-.78 2.05 0 2.83L4 21.41c.39.39.9.59 1.41.59.51 0 1.02-.2 1.41-.59l7.78-7.78 2.81-2.81c.8-.78.8-2.07 0-2.86zM5.41 20L4 18.59l7.72-7.72 1.47 1.35L5.41 20z\"/>\n",
              "  </svg>\n",
              "      </button>\n",
              "      \n",
              "  <style>\n",
              "    .colab-df-container {\n",
              "      display:flex;\n",
              "      flex-wrap:wrap;\n",
              "      gap: 12px;\n",
              "    }\n",
              "\n",
              "    .colab-df-convert {\n",
              "      background-color: #E8F0FE;\n",
              "      border: none;\n",
              "      border-radius: 50%;\n",
              "      cursor: pointer;\n",
              "      display: none;\n",
              "      fill: #1967D2;\n",
              "      height: 32px;\n",
              "      padding: 0 0 0 0;\n",
              "      width: 32px;\n",
              "    }\n",
              "\n",
              "    .colab-df-convert:hover {\n",
              "      background-color: #E2EBFA;\n",
              "      box-shadow: 0px 1px 2px rgba(60, 64, 67, 0.3), 0px 1px 3px 1px rgba(60, 64, 67, 0.15);\n",
              "      fill: #174EA6;\n",
              "    }\n",
              "\n",
              "    [theme=dark] .colab-df-convert {\n",
              "      background-color: #3B4455;\n",
              "      fill: #D2E3FC;\n",
              "    }\n",
              "\n",
              "    [theme=dark] .colab-df-convert:hover {\n",
              "      background-color: #434B5C;\n",
              "      box-shadow: 0px 1px 3px 1px rgba(0, 0, 0, 0.15);\n",
              "      filter: drop-shadow(0px 1px 2px rgba(0, 0, 0, 0.3));\n",
              "      fill: #FFFFFF;\n",
              "    }\n",
              "  </style>\n",
              "\n",
              "      <script>\n",
              "        const buttonEl =\n",
              "          document.querySelector('#df-5558fb8d-7f9f-4a6c-87a1-101e46b71a9d button.colab-df-convert');\n",
              "        buttonEl.style.display =\n",
              "          google.colab.kernel.accessAllowed ? 'block' : 'none';\n",
              "\n",
              "        async function convertToInteractive(key) {\n",
              "          const element = document.querySelector('#df-5558fb8d-7f9f-4a6c-87a1-101e46b71a9d');\n",
              "          const dataTable =\n",
              "            await google.colab.kernel.invokeFunction('convertToInteractive',\n",
              "                                                     [key], {});\n",
              "          if (!dataTable) return;\n",
              "\n",
              "          const docLinkHtml = 'Like what you see? Visit the ' +\n",
              "            '<a target=\"_blank\" href=https://colab.research.google.com/notebooks/data_table.ipynb>data table notebook</a>'\n",
              "            + ' to learn more about interactive tables.';\n",
              "          element.innerHTML = '';\n",
              "          dataTable['output_type'] = 'display_data';\n",
              "          await google.colab.output.renderOutput(dataTable, element);\n",
              "          const docLink = document.createElement('div');\n",
              "          docLink.innerHTML = docLinkHtml;\n",
              "          element.appendChild(docLink);\n",
              "        }\n",
              "      </script>\n",
              "    </div>\n",
              "  </div>\n",
              "  "
            ]
          },
          "metadata": {},
          "execution_count": 30
        }
      ],
      "source": [
        "data.describe(include=['O'])"
      ]
    },
    {
      "cell_type": "code",
      "execution_count": null,
      "id": "8f23b85f",
      "metadata": {
        "colab": {
          "base_uri": "https://localhost:8080/"
        },
        "id": "8f23b85f",
        "outputId": "c907d765-88e0-4384-b5c1-d5bd1305a0f3"
      },
      "outputs": [
        {
          "output_type": "execute_result",
          "data": {
            "text/plain": [
              "Index(['SK_ID_CURR', 'TARGET', 'NAME_CONTRACT_TYPE', 'CODE_GENDER',\n",
              "       'FLAG_OWN_CAR', 'FLAG_OWN_REALTY', 'CNT_CHILDREN', 'NAME_TYPE_SUITE',\n",
              "       'NAME_INCOME_TYPE', 'NAME_EDUCATION_TYPE', 'NAME_FAMILY_STATUS',\n",
              "       'NAME_HOUSING_TYPE', 'DAYS_BIRTH', 'DAYS_EMPLOYED', 'DAYS_ID_PUBLISH',\n",
              "       'FLAG_MOBIL', 'FLAG_EMP_PHONE', 'FLAG_WORK_PHONE', 'FLAG_CONT_MOBILE',\n",
              "       'FLAG_PHONE', 'FLAG_EMAIL', 'OCCUPATION_TYPE', 'REGION_RATING_CLIENT',\n",
              "       'REGION_RATING_CLIENT_W_CITY', 'WEEKDAY_APPR_PROCESS_START',\n",
              "       'HOUR_APPR_PROCESS_START', 'REG_REGION_NOT_LIVE_REGION',\n",
              "       'REG_REGION_NOT_WORK_REGION', 'LIVE_REGION_NOT_WORK_REGION',\n",
              "       'REG_CITY_NOT_LIVE_CITY', 'REG_CITY_NOT_WORK_CITY',\n",
              "       'LIVE_CITY_NOT_WORK_CITY', 'ORGANIZATION_TYPE', 'FONDKAPREMONT_MODE',\n",
              "       'HOUSETYPE_MODE', 'WALLSMATERIAL_MODE', 'EMERGENCYSTATE_MODE',\n",
              "       'FLAG_DOCUMENT_2', 'FLAG_DOCUMENT_3', 'FLAG_DOCUMENT_4',\n",
              "       'FLAG_DOCUMENT_5', 'FLAG_DOCUMENT_6', 'FLAG_DOCUMENT_7',\n",
              "       'FLAG_DOCUMENT_8', 'FLAG_DOCUMENT_9', 'FLAG_DOCUMENT_10',\n",
              "       'FLAG_DOCUMENT_11', 'FLAG_DOCUMENT_12', 'FLAG_DOCUMENT_13',\n",
              "       'FLAG_DOCUMENT_14', 'FLAG_DOCUMENT_15', 'FLAG_DOCUMENT_16',\n",
              "       'FLAG_DOCUMENT_17', 'FLAG_DOCUMENT_18', 'FLAG_DOCUMENT_19',\n",
              "       'FLAG_DOCUMENT_20', 'FLAG_DOCUMENT_21'],\n",
              "      dtype='object')"
            ]
          },
          "metadata": {},
          "execution_count": 31
        }
      ],
      "source": [
        "_data.select_dtypes('int').columns"
      ]
    },
    {
      "cell_type": "code",
      "execution_count": null,
      "id": "33dbcfdd",
      "metadata": {
        "colab": {
          "base_uri": "https://localhost:8080/",
          "height": 49
        },
        "id": "33dbcfdd",
        "outputId": "4df846c2-1e22-43d3-fadf-6393f752c8c2"
      },
      "outputs": [
        {
          "output_type": "execute_result",
          "data": {
            "text/plain": [
              "<pandas.io.formats.style.Styler at 0x7f506e266b10>"
            ],
            "text/html": [
              "<style type=\"text/css\">\n",
              "</style>\n",
              "<table id=\"T_7c305_\" class=\"dataframe\">\n",
              "  <thead>\n",
              "    <tr>\n",
              "      <th class=\"blank level0\" >&nbsp;</th>\n",
              "      <th class=\"col_heading level0 col0\" >Total</th>\n",
              "      <th class=\"col_heading level0 col1\" >Percentage</th>\n",
              "    </tr>\n",
              "  </thead>\n",
              "  <tbody>\n",
              "  </tbody>\n",
              "</table>\n"
            ]
          },
          "metadata": {},
          "execution_count": 32
        }
      ],
      "source": [
        "missing(data.select_dtypes('int'))"
      ]
    },
    {
      "cell_type": "code",
      "execution_count": null,
      "id": "5be8f92c",
      "metadata": {
        "colab": {
          "base_uri": "https://localhost:8080/"
        },
        "id": "5be8f92c",
        "outputId": "95ae0d4d-248a-42f1-ff05-8c1a09e8355a"
      },
      "outputs": [
        {
          "output_type": "execute_result",
          "data": {
            "text/plain": [
              "Index(['AMT_INCOME_TOTAL', 'AMT_CREDIT', 'AMT_ANNUITY', 'AMT_GOODS_PRICE',\n",
              "       'REGION_POPULATION_RELATIVE', 'DAYS_REGISTRATION', 'OWN_CAR_AGE',\n",
              "       'CNT_FAM_MEMBERS', 'EXT_SOURCE_1', 'EXT_SOURCE_2', 'EXT_SOURCE_3',\n",
              "       'APARTMENTS_AVG', 'BASEMENTAREA_AVG', 'YEARS_BEGINEXPLUATATION_AVG',\n",
              "       'YEARS_BUILD_AVG', 'COMMONAREA_AVG', 'ELEVATORS_AVG', 'ENTRANCES_AVG',\n",
              "       'FLOORSMAX_AVG', 'FLOORSMIN_AVG', 'LANDAREA_AVG',\n",
              "       'LIVINGAPARTMENTS_AVG', 'LIVINGAREA_AVG', 'NONLIVINGAPARTMENTS_AVG',\n",
              "       'NONLIVINGAREA_AVG', 'APARTMENTS_MODE', 'BASEMENTAREA_MODE',\n",
              "       'YEARS_BEGINEXPLUATATION_MODE', 'YEARS_BUILD_MODE', 'COMMONAREA_MODE',\n",
              "       'ELEVATORS_MODE', 'ENTRANCES_MODE', 'FLOORSMAX_MODE', 'FLOORSMIN_MODE',\n",
              "       'LANDAREA_MODE', 'LIVINGAPARTMENTS_MODE', 'LIVINGAREA_MODE',\n",
              "       'NONLIVINGAPARTMENTS_MODE', 'NONLIVINGAREA_MODE', 'APARTMENTS_MEDI',\n",
              "       'BASEMENTAREA_MEDI', 'YEARS_BEGINEXPLUATATION_MEDI', 'YEARS_BUILD_MEDI',\n",
              "       'COMMONAREA_MEDI', 'ELEVATORS_MEDI', 'ENTRANCES_MEDI', 'FLOORSMAX_MEDI',\n",
              "       'FLOORSMIN_MEDI', 'LANDAREA_MEDI', 'LIVINGAPARTMENTS_MEDI',\n",
              "       'LIVINGAREA_MEDI', 'NONLIVINGAPARTMENTS_MEDI', 'NONLIVINGAREA_MEDI',\n",
              "       'TOTALAREA_MODE', 'OBS_30_CNT_SOCIAL_CIRCLE',\n",
              "       'DEF_30_CNT_SOCIAL_CIRCLE', 'OBS_60_CNT_SOCIAL_CIRCLE',\n",
              "       'DEF_60_CNT_SOCIAL_CIRCLE', 'DAYS_LAST_PHONE_CHANGE',\n",
              "       'AMT_REQ_CREDIT_BUREAU_HOUR', 'AMT_REQ_CREDIT_BUREAU_DAY',\n",
              "       'AMT_REQ_CREDIT_BUREAU_WEEK', 'AMT_REQ_CREDIT_BUREAU_MON',\n",
              "       'AMT_REQ_CREDIT_BUREAU_QRT', 'AMT_REQ_CREDIT_BUREAU_YEAR'],\n",
              "      dtype='object')"
            ]
          },
          "metadata": {},
          "execution_count": 33
        }
      ],
      "source": [
        "data.select_dtypes('float').columns"
      ]
    },
    {
      "cell_type": "code",
      "execution_count": null,
      "id": "a023cdea",
      "metadata": {
        "colab": {
          "base_uri": "https://localhost:8080/",
          "height": 1000
        },
        "id": "a023cdea",
        "outputId": "4b6799d0-5bc0-48c8-f1a1-be7cd195e9bb"
      },
      "outputs": [
        {
          "output_type": "execute_result",
          "data": {
            "text/plain": [
              "<pandas.io.formats.style.Styler at 0x7f506d3d4f90>"
            ],
            "text/html": [
              "<style type=\"text/css\">\n",
              "#T_3314c_row0_col0, #T_3314c_row0_col1, #T_3314c_row1_col0, #T_3314c_row1_col1, #T_3314c_row2_col0, #T_3314c_row2_col1, #T_3314c_row3_col0, #T_3314c_row3_col1, #T_3314c_row4_col0, #T_3314c_row4_col1, #T_3314c_row5_col0, #T_3314c_row5_col1, #T_3314c_row6_col0, #T_3314c_row6_col1, #T_3314c_row7_col0, #T_3314c_row7_col1, #T_3314c_row8_col0, #T_3314c_row8_col1, #T_3314c_row9_col0, #T_3314c_row9_col1, #T_3314c_row10_col0, #T_3314c_row10_col1, #T_3314c_row11_col0, #T_3314c_row11_col1, #T_3314c_row12_col0, #T_3314c_row12_col1, #T_3314c_row13_col0, #T_3314c_row13_col1, #T_3314c_row14_col0, #T_3314c_row14_col1, #T_3314c_row15_col0, #T_3314c_row15_col1, #T_3314c_row16_col0, #T_3314c_row16_col1, #T_3314c_row17_col0, #T_3314c_row17_col1, #T_3314c_row18_col0, #T_3314c_row18_col1, #T_3314c_row19_col0, #T_3314c_row19_col1, #T_3314c_row20_col0, #T_3314c_row20_col1, #T_3314c_row21_col0, #T_3314c_row21_col1, #T_3314c_row22_col0, #T_3314c_row22_col1, #T_3314c_row23_col0, #T_3314c_row23_col1, #T_3314c_row24_col0, #T_3314c_row24_col1, #T_3314c_row25_col0, #T_3314c_row25_col1, #T_3314c_row26_col0, #T_3314c_row26_col1, #T_3314c_row27_col0, #T_3314c_row27_col1, #T_3314c_row28_col0, #T_3314c_row28_col1, #T_3314c_row29_col0, #T_3314c_row29_col1, #T_3314c_row30_col0, #T_3314c_row30_col1, #T_3314c_row31_col0, #T_3314c_row31_col1, #T_3314c_row32_col0, #T_3314c_row32_col1, #T_3314c_row33_col0, #T_3314c_row33_col1, #T_3314c_row34_col0, #T_3314c_row34_col1, #T_3314c_row35_col0, #T_3314c_row35_col1, #T_3314c_row36_col0, #T_3314c_row36_col1, #T_3314c_row37_col0, #T_3314c_row37_col1 {\n",
              "  color: red;\n",
              "}\n",
              "#T_3314c_row38_col0, #T_3314c_row38_col1, #T_3314c_row39_col0, #T_3314c_row39_col1, #T_3314c_row40_col0, #T_3314c_row40_col1, #T_3314c_row41_col0, #T_3314c_row41_col1, #T_3314c_row42_col0, #T_3314c_row42_col1, #T_3314c_row43_col0, #T_3314c_row43_col1, #T_3314c_row44_col0, #T_3314c_row44_col1, #T_3314c_row45_col0, #T_3314c_row45_col1, #T_3314c_row46_col0, #T_3314c_row46_col1, #T_3314c_row47_col0, #T_3314c_row47_col1, #T_3314c_row48_col0, #T_3314c_row48_col1, #T_3314c_row49_col0, #T_3314c_row49_col1, #T_3314c_row50_col0, #T_3314c_row50_col1, #T_3314c_row51_col0, #T_3314c_row51_col1, #T_3314c_row52_col0, #T_3314c_row52_col1, #T_3314c_row53_col0, #T_3314c_row53_col1, #T_3314c_row54_col0, #T_3314c_row54_col1, #T_3314c_row55_col0, #T_3314c_row55_col1, #T_3314c_row56_col0, #T_3314c_row56_col1, #T_3314c_row57_col0, #T_3314c_row57_col1, #T_3314c_row58_col0, #T_3314c_row58_col1, #T_3314c_row59_col0, #T_3314c_row59_col1, #T_3314c_row60_col1 {\n",
              "  color: green;\n",
              "}\n",
              "#T_3314c_row60_col0 {\n",
              "  color: blue;\n",
              "}\n",
              "</style>\n",
              "<table id=\"T_3314c_\" class=\"dataframe\">\n",
              "  <thead>\n",
              "    <tr>\n",
              "      <th class=\"blank level0\" >&nbsp;</th>\n",
              "      <th class=\"col_heading level0 col0\" >Total</th>\n",
              "      <th class=\"col_heading level0 col1\" >Percentage</th>\n",
              "    </tr>\n",
              "  </thead>\n",
              "  <tbody>\n",
              "    <tr>\n",
              "      <th id=\"T_3314c_level0_row0\" class=\"row_heading level0 row0\" >COMMONAREA_MODE</th>\n",
              "      <td id=\"T_3314c_row0_col0\" class=\"data row0 col0\" >214865</td>\n",
              "      <td id=\"T_3314c_row0_col1\" class=\"data row0 col1\" >69.872297</td>\n",
              "    </tr>\n",
              "    <tr>\n",
              "      <th id=\"T_3314c_level0_row1\" class=\"row_heading level0 row1\" >COMMONAREA_MEDI</th>\n",
              "      <td id=\"T_3314c_row1_col0\" class=\"data row1 col0\" >214865</td>\n",
              "      <td id=\"T_3314c_row1_col1\" class=\"data row1 col1\" >69.872297</td>\n",
              "    </tr>\n",
              "    <tr>\n",
              "      <th id=\"T_3314c_level0_row2\" class=\"row_heading level0 row2\" >COMMONAREA_AVG</th>\n",
              "      <td id=\"T_3314c_row2_col0\" class=\"data row2 col0\" >214865</td>\n",
              "      <td id=\"T_3314c_row2_col1\" class=\"data row2 col1\" >69.872297</td>\n",
              "    </tr>\n",
              "    <tr>\n",
              "      <th id=\"T_3314c_level0_row3\" class=\"row_heading level0 row3\" >NONLIVINGAPARTMENTS_MODE</th>\n",
              "      <td id=\"T_3314c_row3_col0\" class=\"data row3 col0\" >213514</td>\n",
              "      <td id=\"T_3314c_row3_col1\" class=\"data row3 col1\" >69.432963</td>\n",
              "    </tr>\n",
              "    <tr>\n",
              "      <th id=\"T_3314c_level0_row4\" class=\"row_heading level0 row4\" >NONLIVINGAPARTMENTS_MEDI</th>\n",
              "      <td id=\"T_3314c_row4_col0\" class=\"data row4 col0\" >213514</td>\n",
              "      <td id=\"T_3314c_row4_col1\" class=\"data row4 col1\" >69.432963</td>\n",
              "    </tr>\n",
              "    <tr>\n",
              "      <th id=\"T_3314c_level0_row5\" class=\"row_heading level0 row5\" >NONLIVINGAPARTMENTS_AVG</th>\n",
              "      <td id=\"T_3314c_row5_col0\" class=\"data row5 col0\" >213514</td>\n",
              "      <td id=\"T_3314c_row5_col1\" class=\"data row5 col1\" >69.432963</td>\n",
              "    </tr>\n",
              "    <tr>\n",
              "      <th id=\"T_3314c_level0_row6\" class=\"row_heading level0 row6\" >LIVINGAPARTMENTS_MODE</th>\n",
              "      <td id=\"T_3314c_row6_col0\" class=\"data row6 col0\" >210199</td>\n",
              "      <td id=\"T_3314c_row6_col1\" class=\"data row6 col1\" >68.354953</td>\n",
              "    </tr>\n",
              "    <tr>\n",
              "      <th id=\"T_3314c_level0_row7\" class=\"row_heading level0 row7\" >LIVINGAPARTMENTS_MEDI</th>\n",
              "      <td id=\"T_3314c_row7_col0\" class=\"data row7 col0\" >210199</td>\n",
              "      <td id=\"T_3314c_row7_col1\" class=\"data row7 col1\" >68.354953</td>\n",
              "    </tr>\n",
              "    <tr>\n",
              "      <th id=\"T_3314c_level0_row8\" class=\"row_heading level0 row8\" >LIVINGAPARTMENTS_AVG</th>\n",
              "      <td id=\"T_3314c_row8_col0\" class=\"data row8 col0\" >210199</td>\n",
              "      <td id=\"T_3314c_row8_col1\" class=\"data row8 col1\" >68.354953</td>\n",
              "    </tr>\n",
              "    <tr>\n",
              "      <th id=\"T_3314c_level0_row9\" class=\"row_heading level0 row9\" >FLOORSMIN_MEDI</th>\n",
              "      <td id=\"T_3314c_row9_col0\" class=\"data row9 col0\" >208642</td>\n",
              "      <td id=\"T_3314c_row9_col1\" class=\"data row9 col1\" >67.848630</td>\n",
              "    </tr>\n",
              "    <tr>\n",
              "      <th id=\"T_3314c_level0_row10\" class=\"row_heading level0 row10\" >FLOORSMIN_AVG</th>\n",
              "      <td id=\"T_3314c_row10_col0\" class=\"data row10 col0\" >208642</td>\n",
              "      <td id=\"T_3314c_row10_col1\" class=\"data row10 col1\" >67.848630</td>\n",
              "    </tr>\n",
              "    <tr>\n",
              "      <th id=\"T_3314c_level0_row11\" class=\"row_heading level0 row11\" >FLOORSMIN_MODE</th>\n",
              "      <td id=\"T_3314c_row11_col0\" class=\"data row11 col0\" >208642</td>\n",
              "      <td id=\"T_3314c_row11_col1\" class=\"data row11 col1\" >67.848630</td>\n",
              "    </tr>\n",
              "    <tr>\n",
              "      <th id=\"T_3314c_level0_row12\" class=\"row_heading level0 row12\" >YEARS_BUILD_AVG</th>\n",
              "      <td id=\"T_3314c_row12_col0\" class=\"data row12 col0\" >204488</td>\n",
              "      <td id=\"T_3314c_row12_col1\" class=\"data row12 col1\" >66.497784</td>\n",
              "    </tr>\n",
              "    <tr>\n",
              "      <th id=\"T_3314c_level0_row13\" class=\"row_heading level0 row13\" >YEARS_BUILD_MEDI</th>\n",
              "      <td id=\"T_3314c_row13_col0\" class=\"data row13 col0\" >204488</td>\n",
              "      <td id=\"T_3314c_row13_col1\" class=\"data row13 col1\" >66.497784</td>\n",
              "    </tr>\n",
              "    <tr>\n",
              "      <th id=\"T_3314c_level0_row14\" class=\"row_heading level0 row14\" >YEARS_BUILD_MODE</th>\n",
              "      <td id=\"T_3314c_row14_col0\" class=\"data row14 col0\" >204488</td>\n",
              "      <td id=\"T_3314c_row14_col1\" class=\"data row14 col1\" >66.497784</td>\n",
              "    </tr>\n",
              "    <tr>\n",
              "      <th id=\"T_3314c_level0_row15\" class=\"row_heading level0 row15\" >OWN_CAR_AGE</th>\n",
              "      <td id=\"T_3314c_row15_col0\" class=\"data row15 col0\" >202929</td>\n",
              "      <td id=\"T_3314c_row15_col1\" class=\"data row15 col1\" >65.990810</td>\n",
              "    </tr>\n",
              "    <tr>\n",
              "      <th id=\"T_3314c_level0_row16\" class=\"row_heading level0 row16\" >LANDAREA_AVG</th>\n",
              "      <td id=\"T_3314c_row16_col0\" class=\"data row16 col0\" >182590</td>\n",
              "      <td id=\"T_3314c_row16_col1\" class=\"data row16 col1\" >59.376738</td>\n",
              "    </tr>\n",
              "    <tr>\n",
              "      <th id=\"T_3314c_level0_row17\" class=\"row_heading level0 row17\" >LANDAREA_MODE</th>\n",
              "      <td id=\"T_3314c_row17_col0\" class=\"data row17 col0\" >182590</td>\n",
              "      <td id=\"T_3314c_row17_col1\" class=\"data row17 col1\" >59.376738</td>\n",
              "    </tr>\n",
              "    <tr>\n",
              "      <th id=\"T_3314c_level0_row18\" class=\"row_heading level0 row18\" >LANDAREA_MEDI</th>\n",
              "      <td id=\"T_3314c_row18_col0\" class=\"data row18 col0\" >182590</td>\n",
              "      <td id=\"T_3314c_row18_col1\" class=\"data row18 col1\" >59.376738</td>\n",
              "    </tr>\n",
              "    <tr>\n",
              "      <th id=\"T_3314c_level0_row19\" class=\"row_heading level0 row19\" >BASEMENTAREA_MEDI</th>\n",
              "      <td id=\"T_3314c_row19_col0\" class=\"data row19 col0\" >179943</td>\n",
              "      <td id=\"T_3314c_row19_col1\" class=\"data row19 col1\" >58.515956</td>\n",
              "    </tr>\n",
              "    <tr>\n",
              "      <th id=\"T_3314c_level0_row20\" class=\"row_heading level0 row20\" >BASEMENTAREA_AVG</th>\n",
              "      <td id=\"T_3314c_row20_col0\" class=\"data row20 col0\" >179943</td>\n",
              "      <td id=\"T_3314c_row20_col1\" class=\"data row20 col1\" >58.515956</td>\n",
              "    </tr>\n",
              "    <tr>\n",
              "      <th id=\"T_3314c_level0_row21\" class=\"row_heading level0 row21\" >BASEMENTAREA_MODE</th>\n",
              "      <td id=\"T_3314c_row21_col0\" class=\"data row21 col0\" >179943</td>\n",
              "      <td id=\"T_3314c_row21_col1\" class=\"data row21 col1\" >58.515956</td>\n",
              "    </tr>\n",
              "    <tr>\n",
              "      <th id=\"T_3314c_level0_row22\" class=\"row_heading level0 row22\" >EXT_SOURCE_1</th>\n",
              "      <td id=\"T_3314c_row22_col0\" class=\"data row22 col0\" >173378</td>\n",
              "      <td id=\"T_3314c_row22_col1\" class=\"data row22 col1\" >56.381073</td>\n",
              "    </tr>\n",
              "    <tr>\n",
              "      <th id=\"T_3314c_level0_row23\" class=\"row_heading level0 row23\" >NONLIVINGAREA_MEDI</th>\n",
              "      <td id=\"T_3314c_row23_col0\" class=\"data row23 col0\" >169682</td>\n",
              "      <td id=\"T_3314c_row23_col1\" class=\"data row23 col1\" >55.179164</td>\n",
              "    </tr>\n",
              "    <tr>\n",
              "      <th id=\"T_3314c_level0_row24\" class=\"row_heading level0 row24\" >NONLIVINGAREA_MODE</th>\n",
              "      <td id=\"T_3314c_row24_col0\" class=\"data row24 col0\" >169682</td>\n",
              "      <td id=\"T_3314c_row24_col1\" class=\"data row24 col1\" >55.179164</td>\n",
              "    </tr>\n",
              "    <tr>\n",
              "      <th id=\"T_3314c_level0_row25\" class=\"row_heading level0 row25\" >NONLIVINGAREA_AVG</th>\n",
              "      <td id=\"T_3314c_row25_col0\" class=\"data row25 col0\" >169682</td>\n",
              "      <td id=\"T_3314c_row25_col1\" class=\"data row25 col1\" >55.179164</td>\n",
              "    </tr>\n",
              "    <tr>\n",
              "      <th id=\"T_3314c_level0_row26\" class=\"row_heading level0 row26\" >ELEVATORS_AVG</th>\n",
              "      <td id=\"T_3314c_row26_col0\" class=\"data row26 col0\" >163891</td>\n",
              "      <td id=\"T_3314c_row26_col1\" class=\"data row26 col1\" >53.295980</td>\n",
              "    </tr>\n",
              "    <tr>\n",
              "      <th id=\"T_3314c_level0_row27\" class=\"row_heading level0 row27\" >ELEVATORS_MODE</th>\n",
              "      <td id=\"T_3314c_row27_col0\" class=\"data row27 col0\" >163891</td>\n",
              "      <td id=\"T_3314c_row27_col1\" class=\"data row27 col1\" >53.295980</td>\n",
              "    </tr>\n",
              "    <tr>\n",
              "      <th id=\"T_3314c_level0_row28\" class=\"row_heading level0 row28\" >ELEVATORS_MEDI</th>\n",
              "      <td id=\"T_3314c_row28_col0\" class=\"data row28 col0\" >163891</td>\n",
              "      <td id=\"T_3314c_row28_col1\" class=\"data row28 col1\" >53.295980</td>\n",
              "    </tr>\n",
              "    <tr>\n",
              "      <th id=\"T_3314c_level0_row29\" class=\"row_heading level0 row29\" >APARTMENTS_MODE</th>\n",
              "      <td id=\"T_3314c_row29_col0\" class=\"data row29 col0\" >156061</td>\n",
              "      <td id=\"T_3314c_row29_col1\" class=\"data row29 col1\" >50.749729</td>\n",
              "    </tr>\n",
              "    <tr>\n",
              "      <th id=\"T_3314c_level0_row30\" class=\"row_heading level0 row30\" >APARTMENTS_AVG</th>\n",
              "      <td id=\"T_3314c_row30_col0\" class=\"data row30 col0\" >156061</td>\n",
              "      <td id=\"T_3314c_row30_col1\" class=\"data row30 col1\" >50.749729</td>\n",
              "    </tr>\n",
              "    <tr>\n",
              "      <th id=\"T_3314c_level0_row31\" class=\"row_heading level0 row31\" >APARTMENTS_MEDI</th>\n",
              "      <td id=\"T_3314c_row31_col0\" class=\"data row31 col0\" >156061</td>\n",
              "      <td id=\"T_3314c_row31_col1\" class=\"data row31 col1\" >50.749729</td>\n",
              "    </tr>\n",
              "    <tr>\n",
              "      <th id=\"T_3314c_level0_row32\" class=\"row_heading level0 row32\" >ENTRANCES_MODE</th>\n",
              "      <td id=\"T_3314c_row32_col0\" class=\"data row32 col0\" >154828</td>\n",
              "      <td id=\"T_3314c_row32_col1\" class=\"data row32 col1\" >50.348768</td>\n",
              "    </tr>\n",
              "    <tr>\n",
              "      <th id=\"T_3314c_level0_row33\" class=\"row_heading level0 row33\" >ENTRANCES_AVG</th>\n",
              "      <td id=\"T_3314c_row33_col0\" class=\"data row33 col0\" >154828</td>\n",
              "      <td id=\"T_3314c_row33_col1\" class=\"data row33 col1\" >50.348768</td>\n",
              "    </tr>\n",
              "    <tr>\n",
              "      <th id=\"T_3314c_level0_row34\" class=\"row_heading level0 row34\" >ENTRANCES_MEDI</th>\n",
              "      <td id=\"T_3314c_row34_col0\" class=\"data row34 col0\" >154828</td>\n",
              "      <td id=\"T_3314c_row34_col1\" class=\"data row34 col1\" >50.348768</td>\n",
              "    </tr>\n",
              "    <tr>\n",
              "      <th id=\"T_3314c_level0_row35\" class=\"row_heading level0 row35\" >LIVINGAREA_MODE</th>\n",
              "      <td id=\"T_3314c_row35_col0\" class=\"data row35 col0\" >154350</td>\n",
              "      <td id=\"T_3314c_row35_col1\" class=\"data row35 col1\" >50.193326</td>\n",
              "    </tr>\n",
              "    <tr>\n",
              "      <th id=\"T_3314c_level0_row36\" class=\"row_heading level0 row36\" >LIVINGAREA_MEDI</th>\n",
              "      <td id=\"T_3314c_row36_col0\" class=\"data row36 col0\" >154350</td>\n",
              "      <td id=\"T_3314c_row36_col1\" class=\"data row36 col1\" >50.193326</td>\n",
              "    </tr>\n",
              "    <tr>\n",
              "      <th id=\"T_3314c_level0_row37\" class=\"row_heading level0 row37\" >LIVINGAREA_AVG</th>\n",
              "      <td id=\"T_3314c_row37_col0\" class=\"data row37 col0\" >154350</td>\n",
              "      <td id=\"T_3314c_row37_col1\" class=\"data row37 col1\" >50.193326</td>\n",
              "    </tr>\n",
              "    <tr>\n",
              "      <th id=\"T_3314c_level0_row38\" class=\"row_heading level0 row38\" >FLOORSMAX_AVG</th>\n",
              "      <td id=\"T_3314c_row38_col0\" class=\"data row38 col0\" >153020</td>\n",
              "      <td id=\"T_3314c_row38_col1\" class=\"data row38 col1\" >49.760822</td>\n",
              "    </tr>\n",
              "    <tr>\n",
              "      <th id=\"T_3314c_level0_row39\" class=\"row_heading level0 row39\" >FLOORSMAX_MEDI</th>\n",
              "      <td id=\"T_3314c_row39_col0\" class=\"data row39 col0\" >153020</td>\n",
              "      <td id=\"T_3314c_row39_col1\" class=\"data row39 col1\" >49.760822</td>\n",
              "    </tr>\n",
              "    <tr>\n",
              "      <th id=\"T_3314c_level0_row40\" class=\"row_heading level0 row40\" >FLOORSMAX_MODE</th>\n",
              "      <td id=\"T_3314c_row40_col0\" class=\"data row40 col0\" >153020</td>\n",
              "      <td id=\"T_3314c_row40_col1\" class=\"data row40 col1\" >49.760822</td>\n",
              "    </tr>\n",
              "    <tr>\n",
              "      <th id=\"T_3314c_level0_row41\" class=\"row_heading level0 row41\" >YEARS_BEGINEXPLUATATION_MODE</th>\n",
              "      <td id=\"T_3314c_row41_col0\" class=\"data row41 col0\" >150007</td>\n",
              "      <td id=\"T_3314c_row41_col1\" class=\"data row41 col1\" >48.781019</td>\n",
              "    </tr>\n",
              "    <tr>\n",
              "      <th id=\"T_3314c_level0_row42\" class=\"row_heading level0 row42\" >YEARS_BEGINEXPLUATATION_AVG</th>\n",
              "      <td id=\"T_3314c_row42_col0\" class=\"data row42 col0\" >150007</td>\n",
              "      <td id=\"T_3314c_row42_col1\" class=\"data row42 col1\" >48.781019</td>\n",
              "    </tr>\n",
              "    <tr>\n",
              "      <th id=\"T_3314c_level0_row43\" class=\"row_heading level0 row43\" >YEARS_BEGINEXPLUATATION_MEDI</th>\n",
              "      <td id=\"T_3314c_row43_col0\" class=\"data row43 col0\" >150007</td>\n",
              "      <td id=\"T_3314c_row43_col1\" class=\"data row43 col1\" >48.781019</td>\n",
              "    </tr>\n",
              "    <tr>\n",
              "      <th id=\"T_3314c_level0_row44\" class=\"row_heading level0 row44\" >TOTALAREA_MODE</th>\n",
              "      <td id=\"T_3314c_row44_col0\" class=\"data row44 col0\" >148431</td>\n",
              "      <td id=\"T_3314c_row44_col1\" class=\"data row44 col1\" >48.268517</td>\n",
              "    </tr>\n",
              "    <tr>\n",
              "      <th id=\"T_3314c_level0_row45\" class=\"row_heading level0 row45\" >EXT_SOURCE_3</th>\n",
              "      <td id=\"T_3314c_row45_col0\" class=\"data row45 col0\" >60965</td>\n",
              "      <td id=\"T_3314c_row45_col1\" class=\"data row45 col1\" >19.825307</td>\n",
              "    </tr>\n",
              "    <tr>\n",
              "      <th id=\"T_3314c_level0_row46\" class=\"row_heading level0 row46\" >AMT_REQ_CREDIT_BUREAU_HOUR</th>\n",
              "      <td id=\"T_3314c_row46_col0\" class=\"data row46 col0\" >41519</td>\n",
              "      <td id=\"T_3314c_row46_col1\" class=\"data row46 col1\" >13.501631</td>\n",
              "    </tr>\n",
              "    <tr>\n",
              "      <th id=\"T_3314c_level0_row47\" class=\"row_heading level0 row47\" >AMT_REQ_CREDIT_BUREAU_DAY</th>\n",
              "      <td id=\"T_3314c_row47_col0\" class=\"data row47 col0\" >41519</td>\n",
              "      <td id=\"T_3314c_row47_col1\" class=\"data row47 col1\" >13.501631</td>\n",
              "    </tr>\n",
              "    <tr>\n",
              "      <th id=\"T_3314c_level0_row48\" class=\"row_heading level0 row48\" >AMT_REQ_CREDIT_BUREAU_WEEK</th>\n",
              "      <td id=\"T_3314c_row48_col0\" class=\"data row48 col0\" >41519</td>\n",
              "      <td id=\"T_3314c_row48_col1\" class=\"data row48 col1\" >13.501631</td>\n",
              "    </tr>\n",
              "    <tr>\n",
              "      <th id=\"T_3314c_level0_row49\" class=\"row_heading level0 row49\" >AMT_REQ_CREDIT_BUREAU_MON</th>\n",
              "      <td id=\"T_3314c_row49_col0\" class=\"data row49 col0\" >41519</td>\n",
              "      <td id=\"T_3314c_row49_col1\" class=\"data row49 col1\" >13.501631</td>\n",
              "    </tr>\n",
              "    <tr>\n",
              "      <th id=\"T_3314c_level0_row50\" class=\"row_heading level0 row50\" >AMT_REQ_CREDIT_BUREAU_QRT</th>\n",
              "      <td id=\"T_3314c_row50_col0\" class=\"data row50 col0\" >41519</td>\n",
              "      <td id=\"T_3314c_row50_col1\" class=\"data row50 col1\" >13.501631</td>\n",
              "    </tr>\n",
              "    <tr>\n",
              "      <th id=\"T_3314c_level0_row51\" class=\"row_heading level0 row51\" >AMT_REQ_CREDIT_BUREAU_YEAR</th>\n",
              "      <td id=\"T_3314c_row51_col0\" class=\"data row51 col0\" >41519</td>\n",
              "      <td id=\"T_3314c_row51_col1\" class=\"data row51 col1\" >13.501631</td>\n",
              "    </tr>\n",
              "    <tr>\n",
              "      <th id=\"T_3314c_level0_row52\" class=\"row_heading level0 row52\" >OBS_30_CNT_SOCIAL_CIRCLE</th>\n",
              "      <td id=\"T_3314c_row52_col0\" class=\"data row52 col0\" >1021</td>\n",
              "      <td id=\"T_3314c_row52_col1\" class=\"data row52 col1\" >0.332021</td>\n",
              "    </tr>\n",
              "    <tr>\n",
              "      <th id=\"T_3314c_level0_row53\" class=\"row_heading level0 row53\" >DEF_30_CNT_SOCIAL_CIRCLE</th>\n",
              "      <td id=\"T_3314c_row53_col0\" class=\"data row53 col0\" >1021</td>\n",
              "      <td id=\"T_3314c_row53_col1\" class=\"data row53 col1\" >0.332021</td>\n",
              "    </tr>\n",
              "    <tr>\n",
              "      <th id=\"T_3314c_level0_row54\" class=\"row_heading level0 row54\" >OBS_60_CNT_SOCIAL_CIRCLE</th>\n",
              "      <td id=\"T_3314c_row54_col0\" class=\"data row54 col0\" >1021</td>\n",
              "      <td id=\"T_3314c_row54_col1\" class=\"data row54 col1\" >0.332021</td>\n",
              "    </tr>\n",
              "    <tr>\n",
              "      <th id=\"T_3314c_level0_row55\" class=\"row_heading level0 row55\" >DEF_60_CNT_SOCIAL_CIRCLE</th>\n",
              "      <td id=\"T_3314c_row55_col0\" class=\"data row55 col0\" >1021</td>\n",
              "      <td id=\"T_3314c_row55_col1\" class=\"data row55 col1\" >0.332021</td>\n",
              "    </tr>\n",
              "    <tr>\n",
              "      <th id=\"T_3314c_level0_row56\" class=\"row_heading level0 row56\" >EXT_SOURCE_2</th>\n",
              "      <td id=\"T_3314c_row56_col0\" class=\"data row56 col0\" >660</td>\n",
              "      <td id=\"T_3314c_row56_col1\" class=\"data row56 col1\" >0.214626</td>\n",
              "    </tr>\n",
              "    <tr>\n",
              "      <th id=\"T_3314c_level0_row57\" class=\"row_heading level0 row57\" >AMT_GOODS_PRICE</th>\n",
              "      <td id=\"T_3314c_row57_col0\" class=\"data row57 col0\" >278</td>\n",
              "      <td id=\"T_3314c_row57_col1\" class=\"data row57 col1\" >0.090403</td>\n",
              "    </tr>\n",
              "    <tr>\n",
              "      <th id=\"T_3314c_level0_row58\" class=\"row_heading level0 row58\" >AMT_ANNUITY</th>\n",
              "      <td id=\"T_3314c_row58_col0\" class=\"data row58 col0\" >12</td>\n",
              "      <td id=\"T_3314c_row58_col1\" class=\"data row58 col1\" >0.003902</td>\n",
              "    </tr>\n",
              "    <tr>\n",
              "      <th id=\"T_3314c_level0_row59\" class=\"row_heading level0 row59\" >CNT_FAM_MEMBERS</th>\n",
              "      <td id=\"T_3314c_row59_col0\" class=\"data row59 col0\" >2</td>\n",
              "      <td id=\"T_3314c_row59_col1\" class=\"data row59 col1\" >0.000650</td>\n",
              "    </tr>\n",
              "    <tr>\n",
              "      <th id=\"T_3314c_level0_row60\" class=\"row_heading level0 row60\" >DAYS_LAST_PHONE_CHANGE</th>\n",
              "      <td id=\"T_3314c_row60_col0\" class=\"data row60 col0\" >1</td>\n",
              "      <td id=\"T_3314c_row60_col1\" class=\"data row60 col1\" >0.000325</td>\n",
              "    </tr>\n",
              "  </tbody>\n",
              "</table>\n"
            ]
          },
          "metadata": {},
          "execution_count": 34
        }
      ],
      "source": [
        "missing(data.select_dtypes('float'))"
      ]
    },
    {
      "cell_type": "code",
      "source": [
        "len(data.columns)"
      ],
      "metadata": {
        "colab": {
          "base_uri": "https://localhost:8080/"
        },
        "id": "YX-aQCawYj9E",
        "outputId": "083fabd5-c469-44ec-821b-642ea253b8ee"
      },
      "id": "YX-aQCawYj9E",
      "execution_count": null,
      "outputs": [
        {
          "output_type": "execute_result",
          "data": {
            "text/plain": [
              "64"
            ]
          },
          "metadata": {},
          "execution_count": 40
        }
      ]
    },
    {
      "cell_type": "code",
      "execution_count": null,
      "id": "a93b21cd",
      "metadata": {
        "colab": {
          "base_uri": "https://localhost:8080/",
          "height": 81
        },
        "id": "a93b21cd",
        "outputId": "6ee8e71a-cc71-424e-8fdc-0882d38eeb6f"
      },
      "outputs": [
        {
          "output_type": "execute_result",
          "data": {
            "text/plain": [
              "<pandas.io.formats.style.Styler at 0x7f506d4064d0>"
            ],
            "text/html": [
              "<style type=\"text/css\">\n",
              "#T_c70f2_row0_col0, #T_c70f2_row0_col1 {\n",
              "  color: green;\n",
              "}\n",
              "</style>\n",
              "<table id=\"T_c70f2_\" class=\"dataframe\">\n",
              "  <thead>\n",
              "    <tr>\n",
              "      <th class=\"blank level0\" >&nbsp;</th>\n",
              "      <th class=\"col_heading level0 col0\" >Total</th>\n",
              "      <th class=\"col_heading level0 col1\" >Percentage</th>\n",
              "    </tr>\n",
              "  </thead>\n",
              "  <tbody>\n",
              "    <tr>\n",
              "      <th id=\"T_c70f2_level0_row0\" class=\"row_heading level0 row0\" >OWN_CAR_AGE</th>\n",
              "      <td id=\"T_c70f2_row0_col0\" class=\"data row0 col0\" >2</td>\n",
              "      <td id=\"T_c70f2_row0_col1\" class=\"data row0 col1\" >0.000650</td>\n",
              "    </tr>\n",
              "  </tbody>\n",
              "</table>\n"
            ]
          },
          "metadata": {},
          "execution_count": 37
        }
      ],
      "source": [
        "data = data.select_dtypes('float').interpolate(method ='linear', limit_direction ='forward')\n",
        "missing(data.select_dtypes('float'))"
      ]
    },
    {
      "cell_type": "code",
      "execution_count": null,
      "id": "85324f5b",
      "metadata": {
        "colab": {
          "base_uri": "https://localhost:8080/",
          "height": 49
        },
        "id": "85324f5b",
        "outputId": "c58fb122-8ca2-4539-d05b-3ba109228792"
      },
      "outputs": [
        {
          "output_type": "execute_result",
          "data": {
            "text/plain": [
              "<pandas.io.formats.style.Styler at 0x7f506d332050>"
            ],
            "text/html": [
              "<style type=\"text/css\">\n",
              "</style>\n",
              "<table id=\"T_89131_\" class=\"dataframe\">\n",
              "  <thead>\n",
              "    <tr>\n",
              "      <th class=\"blank level0\" >&nbsp;</th>\n",
              "      <th class=\"col_heading level0 col0\" >Total</th>\n",
              "      <th class=\"col_heading level0 col1\" >Percentage</th>\n",
              "    </tr>\n",
              "  </thead>\n",
              "  <tbody>\n",
              "  </tbody>\n",
              "</table>\n"
            ]
          },
          "metadata": {},
          "execution_count": 39
        }
      ],
      "source": [
        "data = data.dropna(axis = 1)\n",
        "missing(data)"
      ]
    },
    {
      "cell_type": "code",
      "execution_count": null,
      "id": "1d93e822",
      "metadata": {
        "colab": {
          "base_uri": "https://localhost:8080/"
        },
        "id": "1d93e822",
        "outputId": "49420ddd-d5df-4f40-f220-d09709862044"
      },
      "outputs": [
        {
          "output_type": "execute_result",
          "data": {
            "text/plain": [
              "Index(['AMT_INCOME_TOTAL', 'AMT_CREDIT', 'AMT_ANNUITY', 'AMT_GOODS_PRICE',\n",
              "       'REGION_POPULATION_RELATIVE', 'DAYS_REGISTRATION', 'CNT_FAM_MEMBERS',\n",
              "       'EXT_SOURCE_1', 'EXT_SOURCE_2', 'EXT_SOURCE_3', 'APARTMENTS_AVG',\n",
              "       'BASEMENTAREA_AVG', 'YEARS_BEGINEXPLUATATION_AVG', 'YEARS_BUILD_AVG',\n",
              "       'COMMONAREA_AVG', 'ELEVATORS_AVG', 'ENTRANCES_AVG', 'FLOORSMAX_AVG',\n",
              "       'FLOORSMIN_AVG', 'LANDAREA_AVG', 'LIVINGAPARTMENTS_AVG',\n",
              "       'LIVINGAREA_AVG', 'NONLIVINGAPARTMENTS_AVG', 'NONLIVINGAREA_AVG',\n",
              "       'APARTMENTS_MODE', 'BASEMENTAREA_MODE', 'YEARS_BEGINEXPLUATATION_MODE',\n",
              "       'YEARS_BUILD_MODE', 'COMMONAREA_MODE', 'ELEVATORS_MODE',\n",
              "       'ENTRANCES_MODE', 'FLOORSMAX_MODE', 'FLOORSMIN_MODE', 'LANDAREA_MODE',\n",
              "       'LIVINGAPARTMENTS_MODE', 'LIVINGAREA_MODE', 'NONLIVINGAPARTMENTS_MODE',\n",
              "       'NONLIVINGAREA_MODE', 'APARTMENTS_MEDI', 'BASEMENTAREA_MEDI',\n",
              "       'YEARS_BEGINEXPLUATATION_MEDI', 'YEARS_BUILD_MEDI', 'COMMONAREA_MEDI',\n",
              "       'ELEVATORS_MEDI', 'ENTRANCES_MEDI', 'FLOORSMAX_MEDI', 'FLOORSMIN_MEDI',\n",
              "       'LANDAREA_MEDI', 'LIVINGAPARTMENTS_MEDI', 'LIVINGAREA_MEDI',\n",
              "       'NONLIVINGAPARTMENTS_MEDI', 'NONLIVINGAREA_MEDI', 'TOTALAREA_MODE',\n",
              "       'OBS_30_CNT_SOCIAL_CIRCLE', 'DEF_30_CNT_SOCIAL_CIRCLE',\n",
              "       'OBS_60_CNT_SOCIAL_CIRCLE', 'DEF_60_CNT_SOCIAL_CIRCLE',\n",
              "       'DAYS_LAST_PHONE_CHANGE', 'AMT_REQ_CREDIT_BUREAU_HOUR',\n",
              "       'AMT_REQ_CREDIT_BUREAU_DAY', 'AMT_REQ_CREDIT_BUREAU_WEEK',\n",
              "       'AMT_REQ_CREDIT_BUREAU_MON', 'AMT_REQ_CREDIT_BUREAU_QRT',\n",
              "       'AMT_REQ_CREDIT_BUREAU_YEAR'],\n",
              "      dtype='object')"
            ]
          },
          "metadata": {},
          "execution_count": 18
        }
      ],
      "source": [
        "data"
      ]
    },
    {
      "cell_type": "code",
      "execution_count": null,
      "id": "65aa7fc4",
      "metadata": {
        "id": "65aa7fc4"
      },
      "outputs": [],
      "source": []
    },
    {
      "cell_type": "code",
      "execution_count": null,
      "id": "34ad82bf",
      "metadata": {
        "id": "34ad82bf"
      },
      "outputs": [],
      "source": []
    }
  ],
  "metadata": {
    "kernelspec": {
      "display_name": "Python 3 (ipykernel)",
      "language": "python",
      "name": "python3"
    },
    "language_info": {
      "codemirror_mode": {
        "name": "ipython",
        "version": 3
      },
      "file_extension": ".py",
      "mimetype": "text/x-python",
      "name": "python",
      "nbconvert_exporter": "python",
      "pygments_lexer": "ipython3",
      "version": "3.8.0"
    },
    "colab": {
      "provenance": [],
      "collapsed_sections": []
    }
  },
  "nbformat": 4,
  "nbformat_minor": 5
}